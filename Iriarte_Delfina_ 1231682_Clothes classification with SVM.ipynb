{
 "cells": [
  {
   "cell_type": "markdown",
   "metadata": {},
   "source": [
    "# Clothes Classification with Support Vector Machines\n",
    "\n",
    "In this notebook we are going to explore the use of Support Vector Machines (SVM) for image classification. We are going to use a new version of the famous MNIST dataset (the original is a dataset of handwritten digits). The version we are going to use is called Fashion MNIST (https://pravarmahajan.github.io/fashion/) and is a dataset of small images of clothes and accessories.\n",
    "\n",
    "\n",
    "\n",
    "The dataset labels are the following:\n",
    "\n",
    "| Label | Description |\n",
    "| --- | --- |\n",
    "| 0 | T-shirt/top |\n",
    "| 1 | Trouser |\n",
    "| 2 | Pullover |\n",
    "| 3 | Dress |\n",
    "| 4 | Coat |\n",
    "| 5 | Sandal |\n",
    "| 6 | Shirt |\n",
    "| 7 | Sneaker |\n",
    "| 8 | Bag |\n",
    "| 9 | Ankle boot |"
   ]
  },
  {
   "cell_type": "markdown",
   "metadata": {},
   "source": [
    "## TODO: Insert your surname, name and ID number\n",
    "\n",
    "Student name: Iriarte Delfina\n",
    "    \n",
    "ID: 1231682"
   ]
  },
  {
   "cell_type": "code",
   "execution_count": 1,
   "metadata": {},
   "outputs": [],
   "source": [
    "#load the required packages\n",
    "\n",
    "%matplotlib inline  \n",
    "\n",
    "import numpy as np\n",
    "import scipy as sp\n",
    "import matplotlib.pyplot as plt\n",
    "import warnings\n",
    "warnings.filterwarnings('ignore')\n",
    "\n",
    "import sklearn\n",
    "from sklearn.datasets import fetch_mldata\n",
    "from sklearn.neural_network import MLPClassifier\n",
    "import sklearn.metrics as skm\n",
    "\n",
    "from sklearn.metrics import confusion_matrix\n",
    "import seaborn as sns\n",
    "import pandas as pd"
   ]
  },
  {
   "cell_type": "code",
   "execution_count": 2,
   "metadata": {},
   "outputs": [],
   "source": [
    "# helper function to load Fashion MNIST dataset\n",
    "def load_mnist(path, kind='train'):\n",
    "    import os\n",
    "    import gzip\n",
    "    import numpy as np\n",
    "    labels_path = os.path.join(path, '%s-labels-idx1-ubyte.gz' % kind)\n",
    "    images_path = os.path.join(path, '%s-images-idx3-ubyte.gz' % kind)\n",
    "    with gzip.open(labels_path, 'rb') as lbpath:\n",
    "        labels = np.frombuffer(lbpath.read(), dtype=np.uint8,offset=8)\n",
    "    with gzip.open(images_path, 'rb') as imgpath:\n",
    "        images = np.frombuffer(imgpath.read(), dtype=np.uint8,offset=16).reshape(len(labels), 784)\n",
    "    return images, labels"
   ]
  },
  {
   "cell_type": "code",
   "execution_count": 3,
   "metadata": {},
   "outputs": [],
   "source": [
    "#fix your ID (\"numero di matricola\") and the seed for random generator (as usual you can try different seeds)\n",
    "ID = 1231682\n",
    "np.random.seed(ID)"
   ]
  },
  {
   "cell_type": "code",
   "execution_count": 4,
   "metadata": {},
   "outputs": [
    {
     "name": "stdout",
     "output_type": "stream",
     "text": [
      "(60000, 784) (60000,)\n"
     ]
    }
   ],
   "source": [
    "#load the Fashion MNIST dataset from the 'data' folder and let's normalize the features so that each value is in [0,1] \n",
    "X, y = load_mnist('data', kind='train')\n",
    "# rescale the data\n",
    "X, y = X / 255., y # original pixel values are between 0 and 255\n",
    "print(X.shape, y.shape)\n"
   ]
  },
  {
   "cell_type": "markdown",
   "metadata": {},
   "source": [
    "Now split into training and test. Make sure that each label is present at least 10 times\n",
    "in training. If it is not, then keep adding permutations to the initial data until this \n",
    "happens."
   ]
  },
  {
   "cell_type": "code",
   "execution_count": 5,
   "metadata": {},
   "outputs": [
    {
     "name": "stdout",
     "output_type": "stream",
     "text": [
      "Labels in training dataset:  [0 1 2 3 4 5 6 7 8 9]\n",
      "Frequencies in training dataset:  [53 55 45 56 38 55 55 51 46 46]\n"
     ]
    }
   ],
   "source": [
    "#random permute the data and split into training and test taking the first 500\n",
    "#data samples as training and the rests as test\n",
    "permutation = np.random.permutation(X.shape[0])\n",
    "\n",
    "X = X[permutation]\n",
    "y = y[permutation]\n",
    "\n",
    "m_training = 500\n",
    "\n",
    "X_train, X_test = X[:m_training], X[m_training:]\n",
    "y_train, y_test = y[:m_training], y[m_training:]\n",
    "\n",
    "labels, freqs = np.unique(y_train, return_counts=True)\n",
    "print(\"Labels in training dataset: \", labels)\n",
    "print(\"Frequencies in training dataset: \", freqs)\n"
   ]
  },
  {
   "cell_type": "code",
   "execution_count": 6,
   "metadata": {},
   "outputs": [],
   "source": [
    "#function for plotting a image and printing the corresponding label\n",
    "def plot_input(X_matrix, labels, index):\n",
    "    print(\"INPUT:\")\n",
    "    plt.imshow(\n",
    "        X_matrix[index].reshape(28,28),\n",
    "        cmap          = plt.cm.gray_r,\n",
    "        interpolation = \"nearest\"\n",
    "    )\n",
    "    plt.show()\n",
    "    print(\"LABEL: %i\"%labels[index])\n",
    "    return"
   ]
  },
  {
   "cell_type": "code",
   "execution_count": 7,
   "metadata": {},
   "outputs": [
    {
     "name": "stdout",
     "output_type": "stream",
     "text": [
      "INPUT:\n"
     ]
    },
    {
     "data": {
      "image/png": "[encoded data removed]",
      "text/plain": [
       "<Figure size 432x288 with 1 Axes>"
      ]
     },
     "metadata": {
      "needs_background": "light"
     },
     "output_type": "display_data"
    },
    {
     "name": "stdout",
     "output_type": "stream",
     "text": [
      "LABEL: 5\n",
      "INPUT:\n"
     ]
    },
    {
     "data": {
      "image/png": "[encoded data removed]",
      "text/plain": [
       "<Figure size 432x288 with 1 Axes>"
      ]
     },
     "metadata": {
      "needs_background": "light"
     },
     "output_type": "display_data"
    },
    {
     "name": "stdout",
     "output_type": "stream",
     "text": [
      "LABEL: 3\n",
      "INPUT:\n"
     ]
    },
    {
     "data": {
      "image/png": "[encoded data removed]",
      "text/plain": [
       "<Figure size 432x288 with 1 Axes>"
      ]
     },
     "metadata": {
      "needs_background": "light"
     },
     "output_type": "display_data"
    },
    {
     "name": "stdout",
     "output_type": "stream",
     "text": [
      "LABEL: 1\n",
      "INPUT:\n"
     ]
    },
    {
     "data": {
      "image/png": "[encoded data removed]",
      "text/plain": [
       "<Figure size 432x288 with 1 Axes>"
      ]
     },
     "metadata": {
      "needs_background": "light"
     },
     "output_type": "display_data"
    },
    {
     "name": "stdout",
     "output_type": "stream",
     "text": [
      "LABEL: 0\n"
     ]
    }
   ],
   "source": [
    "#let's try the plotting function\n",
    "plot_input(X_train,y_train,5)\n",
    "plot_input(X_test,y_test,50)\n",
    "plot_input(X_test,y_test,500)\n",
    "plot_input(X_test,y_test,5000)"
   ]
  },
  {
   "cell_type": "markdown",
   "metadata": {},
   "source": [
    "## TO DO 1\n",
    "Use a SVM classifier with cross validation to pick a model. Use a 4-fold cross-validation. Let's start with a Linear kernel:"
   ]
  },
  {
   "cell_type": "code",
   "execution_count": 8,
   "metadata": {},
   "outputs": [
    {
     "name": "stderr",
     "output_type": "stream",
     "text": [
      "C:\\Users\\delir\\Anaconda3\\lib\\site-packages\\sklearn\\model_selection\\_search.py:813: DeprecationWarning: The default of the `iid` parameter will change from True to False in version 0.22 and will be removed in 0.24. This will change numeric results when test-set sizes are unequal.\n",
      "  DeprecationWarning)\n"
     ]
    },
    {
     "name": "stdout",
     "output_type": "stream",
     "text": [
      "RESULTS FOR LINEAR KERNEL\n",
      "              precision    recall  f1-score   support\n",
      "\n",
      "           0       0.72      0.81      0.76      5947\n",
      "           1       0.98      0.94      0.96      5945\n",
      "           2       0.59      0.66      0.62      5955\n",
      "           3       0.78      0.85      0.81      5944\n",
      "           4       0.72      0.49      0.59      5962\n",
      "           5       0.87      0.87      0.87      5945\n",
      "           6       0.48      0.51      0.50      5945\n",
      "           7       0.84      0.88      0.86      5949\n",
      "           8       0.94      0.88      0.91      5954\n",
      "           9       0.91      0.88      0.89      5954\n",
      "\n",
      "    accuracy                           0.78     59500\n",
      "   macro avg       0.78      0.78      0.78     59500\n",
      "weighted avg       0.78      0.78      0.78     59500\n",
      "\n",
      "\n",
      "Best estimator found by grid search:\n",
      "SVC(C=0.05, cache_size=200, class_weight=None, coef0=0.0,\n",
      "    decision_function_shape='ovr', degree=3, gamma=1, kernel='linear',\n",
      "    max_iter=-1, probability=False, random_state=1231682, shrinking=True,\n",
      "    tol=0.001, verbose=False)\n",
      "Best parameters set found:\n",
      "{'C': 0.05}\n",
      "Score with best parameters:\n",
      "0.756\n",
      "All scores on the grid:\n",
      "Score of parameter for {'C': 0.0005} is= 0.31 +- 0.09243456620433357\n",
      "Score of parameter for {'C': 0.005} is= 0.736 +- 0.030242358383752648\n",
      "Score of parameter for {'C': 0.05} is= 0.756 +- 0.044056374730842625\n",
      "Score of parameter for {'C': 0.5} is= 0.748 +- 0.04658092176352614\n",
      "Score of parameter for {'C': 5} is= 0.748 +- 0.04658092176352614\n",
      "Score of parameter for {'C': 50} is= 0.748 +- 0.04658092176352614\n",
      "Score of parameter for {'C': 500} is= 0.748 +- 0.04658092176352614\n"
     ]
    }
   ],
   "source": [
    "#import SVC\n",
    "from sklearn.svm import SVC\n",
    "#import for Cross-Validation\n",
    "from sklearn.model_selection import GridSearchCV\n",
    "from sklearn.metrics import classification_report\n",
    "\n",
    "# parameters for linear SVM\n",
    "parameters = {'C': [0.0005, 0.005, 0.05, 0.5, 5, 50, 500]}\n",
    "\n",
    "svc = SVC(gamma=1, kernel = 'linear', random_state = ID)\n",
    "clf = GridSearchCV(svc, parameters, cv=4)\n",
    "clf.fit(X_train, y_train)\n",
    "\n",
    "\n",
    "print ('RESULTS FOR LINEAR KERNEL')    \n",
    "y_pred = clf.predict(X_test)\n",
    "print(classification_report(y_test, y_pred))\n",
    "print()\n",
    "\n",
    "\n",
    "print(\"Best estimator found by grid search:\")\n",
    "print(clf.best_estimator_)\n",
    "\n",
    "print(\"Best parameters set found:\")\n",
    "print(clf.best_params_)\n",
    "\n",
    "print(\"Score with best parameters:\")\n",
    "print(clf.best_score_)\n",
    "\n",
    "\n",
    "print(\"All scores on the grid:\")\n",
    "means = clf.cv_results_['mean_test_score']\n",
    "stds = clf.cv_results_['std_test_score']\n",
    "for mean, std, params in zip(means, stds, clf.cv_results_['params']):\n",
    "    print('Score of parameter for', params, 'is=', mean, '+-', std *2)\n",
    "     \n"
   ]
  },
  {
   "cell_type": "markdown",
   "metadata": {},
   "source": [
    "## TO DO 2\n",
    "Pick a model for the Polynomial kernel with degree=2:"
   ]
  },
  {
   "cell_type": "code",
   "execution_count": 9,
   "metadata": {},
   "outputs": [
    {
     "name": "stderr",
     "output_type": "stream",
     "text": [
      "C:\\Users\\delir\\Anaconda3\\lib\\site-packages\\sklearn\\model_selection\\_search.py:813: DeprecationWarning: The default of the `iid` parameter will change from True to False in version 0.22 and will be removed in 0.24. This will change numeric results when test-set sizes are unequal.\n",
      "  DeprecationWarning)\n"
     ]
    },
    {
     "name": "stdout",
     "output_type": "stream",
     "text": [
      "RESULTS FOR POLY DEGREE= 2  KERNEL\n",
      "              precision    recall  f1-score   support\n",
      "\n",
      "           0       0.72      0.73      0.72      5947\n",
      "           1       0.98      0.94      0.96      5945\n",
      "           2       0.62      0.62      0.62      5955\n",
      "           3       0.82      0.79      0.81      5944\n",
      "           4       0.69      0.54      0.61      5962\n",
      "           5       0.77      0.89      0.83      5945\n",
      "           6       0.45      0.58      0.50      5945\n",
      "           7       0.86      0.86      0.86      5949\n",
      "           8       0.95      0.85      0.90      5954\n",
      "           9       0.90      0.88      0.89      5954\n",
      "\n",
      "    accuracy                           0.77     59500\n",
      "   macro avg       0.78      0.77      0.77     59500\n",
      "weighted avg       0.78      0.77      0.77     59500\n",
      "\n",
      "\n",
      "Best estimator found by grid search:\n",
      "SVC(C=0.5, cache_size=200, class_weight=None, coef0=0.0,\n",
      "    decision_function_shape='ovr', degree=2, gamma=0.05, kernel='poly',\n",
      "    max_iter=-1, probability=False, random_state=1231682, shrinking=True,\n",
      "    tol=0.001, verbose=False)\n",
      "Best parameters set found:\n",
      "{'C': 0.5, 'gamma': 0.05}\n",
      "Score with best parameters:\n",
      "0.758\n",
      "All scores on the grid:\n",
      "Score of parameter for {'C': 0.05, 'gamma': 0.05} is= 0.732 +- 0.012770190349653212\n",
      "Score of parameter for {'C': 0.05, 'gamma': 0.5} is= 0.746 +- 0.0907224308902617\n",
      "Score of parameter for {'C': 0.05, 'gamma': 5.0} is= 0.744 +- 0.09353600730995902\n",
      "Score of parameter for {'C': 0.5, 'gamma': 0.05} is= 0.758 +- 0.06608516267338095\n",
      "Score of parameter for {'C': 0.5, 'gamma': 0.5} is= 0.744 +- 0.09353600730995902\n",
      "Score of parameter for {'C': 0.5, 'gamma': 5.0} is= 0.744 +- 0.09353600730995902\n",
      "Score of parameter for {'C': 5, 'gamma': 0.05} is= 0.746 +- 0.0907224308902617\n",
      "Score of parameter for {'C': 5, 'gamma': 0.5} is= 0.744 +- 0.09353600730995902\n",
      "Score of parameter for {'C': 5, 'gamma': 5.0} is= 0.744 +- 0.09353600730995902\n"
     ]
    }
   ],
   "source": [
    "# parameters for poly with degree 2 kernel\n",
    "parameters = {'C': [0.05, 0.5, 5],'gamma':[0.05,0.5,5.]}\n",
    "\n",
    "#run SVM with poly of degree 2 kernel\n",
    "degree = 2\n",
    "\n",
    "svc = SVC( kernel = 'poly', degree = degree, random_state = ID)\n",
    "clf = GridSearchCV(svc, parameters, cv=4)\n",
    "clf.fit(X_train, y_train)\n",
    "\n",
    "\n",
    "\n",
    "print ('RESULTS FOR POLY DEGREE=', degree, ' KERNEL')\n",
    "\n",
    "y_pred = clf.predict(X_test)\n",
    "print(classification_report(y_test, y_pred))\n",
    "print()\n",
    "\n",
    "\n",
    "print(\"Best estimator found by grid search:\")\n",
    "print(clf.best_estimator_)\n",
    "\n",
    "print(\"Best parameters set found:\") \n",
    "print(clf.best_params_)\n",
    "\n",
    "print(\"Score with best parameters:\")\n",
    "print(clf.best_score_)\n",
    "\n",
    "print(\"All scores on the grid:\")\n",
    "means = clf.cv_results_['mean_test_score']\n",
    "stds = clf.cv_results_['std_test_score']\n",
    "for mean, std, params in zip(means, stds, clf.cv_results_['params']):\n",
    "    print('Score of parameter for', params, 'is=', mean, '+-', std *2)\n",
    "     \n"
   ]
  },
  {
   "cell_type": "markdown",
   "metadata": {},
   "source": [
    "## TO DO 3\n",
    "\n",
    "Now let's try a higher degree for the polynomial kernel."
   ]
  },
  {
   "cell_type": "code",
   "execution_count": 10,
   "metadata": {},
   "outputs": [
    {
     "name": "stderr",
     "output_type": "stream",
     "text": [
      "C:\\Users\\delir\\Anaconda3\\lib\\site-packages\\sklearn\\model_selection\\_search.py:813: DeprecationWarning: The default of the `iid` parameter will change from True to False in version 0.22 and will be removed in 0.24. This will change numeric results when test-set sizes are unequal.\n",
      "  DeprecationWarning)\n"
     ]
    },
    {
     "name": "stdout",
     "output_type": "stream",
     "text": [
      "RESULTS FOR POLY DEGREE= 2  KERNEL\n",
      "              precision    recall  f1-score   support\n",
      "\n",
      "           0       0.72      0.73      0.72      5947\n",
      "           1       0.98      0.94      0.96      5945\n",
      "           2       0.62      0.62      0.62      5955\n",
      "           3       0.82      0.79      0.81      5944\n",
      "           4       0.69      0.54      0.61      5962\n",
      "           5       0.77      0.89      0.83      5945\n",
      "           6       0.45      0.58      0.50      5945\n",
      "           7       0.86      0.86      0.86      5949\n",
      "           8       0.95      0.85      0.90      5954\n",
      "           9       0.90      0.88      0.89      5954\n",
      "\n",
      "    accuracy                           0.77     59500\n",
      "   macro avg       0.78      0.77      0.77     59500\n",
      "weighted avg       0.78      0.77      0.77     59500\n",
      "\n",
      "\n",
      "Best estimator found by grid search:\n",
      "SVC(C=0.5, cache_size=200, class_weight=None, coef0=0.0,\n",
      "    decision_function_shape='ovr', degree=2, gamma=0.05, kernel='poly',\n",
      "    max_iter=-1, probability=False, random_state=1231682, shrinking=True,\n",
      "    tol=0.001, verbose=False)\n",
      "Best parameters set found:\n",
      "{'C': 0.5, 'degree': 2, 'gamma': 0.05}\n",
      "Score with best parameters:\n",
      "0.758\n",
      "All scores on the grid:\n",
      "Score of parameter for {'C': 0.05, 'degree': 2, 'gamma': 0.05} is= 0.732 +- 0.012770190349653212\n",
      "Score of parameter for {'C': 0.05, 'degree': 2, 'gamma': 0.5} is= 0.746 +- 0.0907224308902617\n",
      "Score of parameter for {'C': 0.05, 'degree': 2, 'gamma': 5.0} is= 0.744 +- 0.09353600730995902\n",
      "Score of parameter for {'C': 0.05, 'degree': 3, 'gamma': 0.05} is= 0.742 +- 0.07971161928691363\n",
      "Score of parameter for {'C': 0.05, 'degree': 3, 'gamma': 0.5} is= 0.702 +- 0.08317905117744744\n",
      "Score of parameter for {'C': 0.05, 'degree': 3, 'gamma': 5.0} is= 0.702 +- 0.08317905117744744\n",
      "Score of parameter for {'C': 0.05, 'degree': 4, 'gamma': 0.05} is= 0.688 +- 0.0925386438099297\n",
      "Score of parameter for {'C': 0.05, 'degree': 4, 'gamma': 0.5} is= 0.652 +- 0.0679547889793359\n",
      "Score of parameter for {'C': 0.05, 'degree': 4, 'gamma': 5.0} is= 0.652 +- 0.0679547889793359\n",
      "Score of parameter for {'C': 0.5, 'degree': 2, 'gamma': 0.05} is= 0.758 +- 0.06608516267338095\n",
      "Score of parameter for {'C': 0.5, 'degree': 2, 'gamma': 0.5} is= 0.744 +- 0.09353600730995902\n",
      "Score of parameter for {'C': 0.5, 'degree': 2, 'gamma': 5.0} is= 0.744 +- 0.09353600730995902\n",
      "Score of parameter for {'C': 0.5, 'degree': 3, 'gamma': 0.05} is= 0.724 +- 0.09939837698835761\n",
      "Score of parameter for {'C': 0.5, 'degree': 3, 'gamma': 0.5} is= 0.702 +- 0.08317905117744744\n",
      "Score of parameter for {'C': 0.5, 'degree': 3, 'gamma': 5.0} is= 0.702 +- 0.08317905117744744\n",
      "Score of parameter for {'C': 0.5, 'degree': 4, 'gamma': 0.05} is= 0.686 +- 0.053990670163016154\n",
      "Score of parameter for {'C': 0.5, 'degree': 4, 'gamma': 0.5} is= 0.652 +- 0.0679547889793359\n",
      "Score of parameter for {'C': 0.5, 'degree': 4, 'gamma': 5.0} is= 0.652 +- 0.0679547889793359\n",
      "Score of parameter for {'C': 5, 'degree': 2, 'gamma': 0.05} is= 0.746 +- 0.0907224308902617\n",
      "Score of parameter for {'C': 5, 'degree': 2, 'gamma': 0.5} is= 0.744 +- 0.09353600730995902\n",
      "Score of parameter for {'C': 5, 'degree': 2, 'gamma': 5.0} is= 0.744 +- 0.09353600730995902\n",
      "Score of parameter for {'C': 5, 'degree': 3, 'gamma': 0.05} is= 0.702 +- 0.07906782945562087\n",
      "Score of parameter for {'C': 5, 'degree': 3, 'gamma': 0.5} is= 0.702 +- 0.08317905117744744\n",
      "Score of parameter for {'C': 5, 'degree': 3, 'gamma': 5.0} is= 0.702 +- 0.08317905117744744\n",
      "Score of parameter for {'C': 5, 'degree': 4, 'gamma': 0.05} is= 0.65 +- 0.07345786594800806\n",
      "Score of parameter for {'C': 5, 'degree': 4, 'gamma': 0.5} is= 0.652 +- 0.0679547889793359\n",
      "Score of parameter for {'C': 5, 'degree': 4, 'gamma': 5.0} is= 0.652 +- 0.0679547889793359\n"
     ]
    }
   ],
   "source": [
    "# parameters for poly with higher degree kernel\n",
    "parameters = {'C': [0.05, 0.5, 5],'gamma':[0.05,0.5,5.], 'degree':[2,3,4]}\n",
    "\n",
    "#run SVM with poly of higher degree kernel\n",
    "#degree = 3\n",
    "\n",
    "svc = SVC(kernel = 'poly', degree = degree, random_state = ID)\n",
    "clf = GridSearchCV(svc, parameters, cv=4)\n",
    "clf.fit(X_train, y_train)\n",
    "\n",
    "\n",
    "print ('RESULTS FOR POLY DEGREE=', degree, ' KERNEL')\n",
    "\n",
    "y_pred = clf.predict(X_test)\n",
    "print(classification_report(y_test, y_pred))\n",
    "print()\n",
    "\n",
    "\n",
    "print(\"Best estimator found by grid search:\")\n",
    "print(clf.best_estimator_)\n",
    "\n",
    "print(\"Best parameters set found:\")\n",
    "#ADD YOUR CODE \n",
    "print(clf.best_params_)\n",
    "\n",
    "print(\"Score with best parameters:\")\n",
    "print(clf.best_score_)\n",
    "   \n",
    "print(\"All scores on the grid:\")\n",
    "means = clf.cv_results_['mean_test_score']\n",
    "stds = clf.cv_results_['std_test_score']\n",
    "for mean, std, params in zip(means, stds, clf.cv_results_['params']):\n",
    "    print('Score of parameter for', params, 'is=', mean, '+-', std *2)\n",
    "    \n",
    "#Still the acuraccy is better for degree 2\n",
    "      \n"
   ]
  },
  {
   "cell_type": "markdown",
   "metadata": {},
   "source": [
    "## TO DO 4\n",
    "Pick a model for the Radial Basis Function kernel:"
   ]
  },
  {
   "cell_type": "code",
   "execution_count": 11,
   "metadata": {},
   "outputs": [
    {
     "name": "stderr",
     "output_type": "stream",
     "text": [
      "C:\\Users\\delir\\Anaconda3\\lib\\site-packages\\sklearn\\model_selection\\_search.py:813: DeprecationWarning: The default of the `iid` parameter will change from True to False in version 0.22 and will be removed in 0.24. This will change numeric results when test-set sizes are unequal.\n",
      "  DeprecationWarning)\n"
     ]
    },
    {
     "name": "stdout",
     "output_type": "stream",
     "text": [
      "RESULTS FOR RBF KERNEL\n",
      "              precision    recall  f1-score   support\n",
      "\n",
      "           0       0.72      0.81      0.76      5947\n",
      "           1       0.98      0.94      0.96      5945\n",
      "           2       0.60      0.69      0.64      5955\n",
      "           3       0.78      0.86      0.82      5944\n",
      "           4       0.73      0.49      0.59      5962\n",
      "           5       0.88      0.89      0.88      5945\n",
      "           6       0.50      0.51      0.51      5945\n",
      "           7       0.85      0.88      0.87      5949\n",
      "           8       0.94      0.91      0.92      5954\n",
      "           9       0.91      0.89      0.90      5954\n",
      "\n",
      "    accuracy                           0.79     59500\n",
      "   macro avg       0.79      0.79      0.78     59500\n",
      "weighted avg       0.79      0.79      0.78     59500\n",
      "\n",
      "\n",
      "Best estimator found by grid search:\n",
      "SVC(C=5, cache_size=200, class_weight=None, coef0=0.0,\n",
      "    decision_function_shape='ovr', degree=3, gamma=0.005, kernel='rbf',\n",
      "    max_iter=-1, probability=False, random_state=1231682, shrinking=True,\n",
      "    tol=0.001, verbose=False)\n",
      "Best parameters set found:\n",
      "{'C': 5, 'gamma': 0.005}\n",
      "Score with best parameters:\n",
      "0.76\n",
      "All scores on the grid:\n",
      "Score of parameter C = {'C': 0.5, 'gamma': 0.005} is= 0.718 +- 0.05330522820478749\n",
      "Score of parameter C = {'C': 0.5, 'gamma': 0.05} is= 0.68 +- 0.07816755916367046\n",
      "Score of parameter C = {'C': 0.5, 'gamma': 0.5} is= 0.126 +- 0.055160282295560165\n",
      "Score of parameter C = {'C': 0.5, 'gamma': 5} is= 0.162 +- 0.1832229700199347\n",
      "Score of parameter C = {'C': 5, 'gamma': 0.005} is= 0.76 +- 0.025914611792857666\n",
      "Score of parameter C = {'C': 5, 'gamma': 0.05} is= 0.748 +- 0.05743019910761938\n",
      "Score of parameter C = {'C': 5, 'gamma': 0.5} is= 0.158 +- 0.09091928078397149\n",
      "Score of parameter C = {'C': 5, 'gamma': 5} is= 0.118 +- 0.026782893973440504\n",
      "Score of parameter C = {'C': 50, 'gamma': 0.005} is= 0.744 +- 0.07150841997493271\n",
      "Score of parameter C = {'C': 50, 'gamma': 0.05} is= 0.748 +- 0.05743019910761938\n",
      "Score of parameter C = {'C': 50, 'gamma': 0.5} is= 0.158 +- 0.09091928078397149\n",
      "Score of parameter C = {'C': 50, 'gamma': 5} is= 0.118 +- 0.026782893973440504\n",
      "Score of parameter C = {'C': 500, 'gamma': 0.005} is= 0.744 +- 0.07150841997493271\n",
      "Score of parameter C = {'C': 500, 'gamma': 0.05} is= 0.748 +- 0.05743019910761938\n",
      "Score of parameter C = {'C': 500, 'gamma': 0.5} is= 0.158 +- 0.09091928078397149\n",
      "Score of parameter C = {'C': 500, 'gamma': 5} is= 0.118 +- 0.026782893973440504\n"
     ]
    }
   ],
   "source": [
    "# parameters for rbf SVM\n",
    "parameters = {'C': [0.5, 5, 50, 500],'gamma':[0.005, 0.05, 0.5,5]}\n",
    "\n",
    "#run SVM with rbf kernel\n",
    "\n",
    "svc = SVC( kernel = 'rbf', random_state = ID)\n",
    "clf = GridSearchCV(svc, parameters, cv=4)\n",
    "clf.fit(X_train, y_train)\n",
    "\n",
    "\n",
    "print ('RESULTS FOR RBF KERNEL')\n",
    "\n",
    "y_pred = clf.predict(X_test)\n",
    "print(classification_report(y_test, y_pred))\n",
    "print()\n",
    "\n",
    "\n",
    "print(\"Best estimator found by grid search:\")\n",
    "print(clf.best_estimator_)\n",
    "\n",
    "print(\"Best parameters set found:\")\n",
    "#ADD YOUR CODE \n",
    "print(clf.best_params_)\n",
    "\n",
    "print(\"Score with best parameters:\")\n",
    "print(clf.best_score_)\n",
    " \n",
    "print(\"All scores on the grid:\")\n",
    "means = clf.cv_results_['mean_test_score']\n",
    "stds = clf.cv_results_['std_test_score']\n",
    "for mean, std, params in zip(means, stds, clf.cv_results_['params']):\n",
    "    print('Score of parameter C =', params, 'is=', mean, '+-', std *2)\n",
    "    "
   ]
  },
  {
   "cell_type": "markdown",
   "metadata": {},
   "source": [
    "## TO DO5\n",
    "What do you observe when using RBF and polynomial kernels on this dataset ?\n",
    "\n",
    "We can see that the scores are the similar. If I change the seed the value of the rgf model is better (but not so much)"
   ]
  },
  {
   "cell_type": "markdown",
   "metadata": {},
   "source": [
    "## TO DO 6\n",
    "Report here the best SVM kernel and parameters"
   ]
  },
  {
   "cell_type": "code",
   "execution_count": 12,
   "metadata": {},
   "outputs": [
    {
     "name": "stdout",
     "output_type": "stream",
     "text": [
      "Best SVM training error: 0.046000\n",
      "Best SVM test error: 0.214487\n"
     ]
    }
   ],
   "source": [
    "#get training and test error for the best SVM model from CV\n",
    "best_SVM = clf.best_estimator_\n",
    "best_SVM.fit(X_train, y_train)\n",
    "\n",
    "training_error = 1. - best_SVM.score(X_train,y_train)\n",
    "test_error = 1. - best_SVM.score(X_test,y_test)\n",
    "\n",
    "print (\"Best SVM training error: %f\" % training_error)\n",
    "print (\"Best SVM test error: %f\" % test_error)"
   ]
  },
  {
   "cell_type": "markdown",
   "metadata": {},
   "source": [
    "## More data\n",
    "Now let's do the same but using more data points for training.\n",
    "\n",
    "\n",
    "Choose a new number of data points."
   ]
  },
  {
   "cell_type": "code",
   "execution_count": 13,
   "metadata": {},
   "outputs": [
    {
     "name": "stdout",
     "output_type": "stream",
     "text": [
      "Labels in training dataset:  [0 1 2 3 4 5 6 7 8 9]\n",
      "Frequencies in training dataset:  [202 196 211 204 201 197 205 185 187 212]\n"
     ]
    }
   ],
   "source": [
    "X = X[permutation]\n",
    "y = y[permutation]\n",
    "\n",
    "m_training = 2000 # TODO number of data points, adjust depending on the capabilities of your PC\n",
    "\n",
    "X_train, X_test = X[:m_training], X[m_training:]\n",
    "y_train, y_test = y[:m_training], y[m_training:]\n",
    "\n",
    "labels, freqs = np.unique(y_train, return_counts=True)\n",
    "print(\"Labels in training dataset: \", labels)\n",
    "print(\"Frequencies in training dataset: \", freqs)"
   ]
  },
  {
   "cell_type": "markdown",
   "metadata": {},
   "source": [
    "Let's try to use SVM with parameters obtained from the best model for $m_{training} =  2000$. Since it may take a long time to run, you can decide to just let it run for some time and stop it if it does not complete. If you decide to do this, report it in the TO DO 9 cell below.\n",
    "\n",
    "### TO DO 7"
   ]
  },
  {
   "cell_type": "code",
   "execution_count": 14,
   "metadata": {
    "scrolled": true
   },
   "outputs": [
    {
     "name": "stdout",
     "output_type": "stream",
     "text": [
      "Best estimator found by grid search:\n",
      "SVC(C=5, cache_size=200, class_weight=None, coef0=0.0,\n",
      "    decision_function_shape='ovr', degree=2, gamma=0.005, kernel='rbf',\n",
      "    max_iter=-1, probability=False, random_state=1231682, shrinking=True,\n",
      "    tol=0.001, verbose=False)\n",
      "Score with best parameters:\n",
      "0.8385\n"
     ]
    }
   ],
   "source": [
    "#get training and test error for the best SVM model from CV\n",
    "\n",
    "parameters = {'kernel':('rbf', 'poly'), 'C': [0.05, 0.5, 5, 50, 500], 'gamma':[0.005, 0.05, 0.5,5],  'degree':[2,3]}\n",
    "\n",
    "#run SVM with rbf kernel\n",
    "\n",
    "svc = SVC(random_state = ID)\n",
    "clf = GridSearchCV(svc, parameters, cv=4)\n",
    "clf.fit(X_train, y_train)\n",
    "\n",
    "\n",
    "print(\"Best estimator found by grid search:\")\n",
    "print(clf.best_estimator_)\n",
    "\n",
    "print(\"Score with best parameters:\")\n",
    "print(clf.best_score_)\n",
    "\n",
    "\n",
    "\n"
   ]
  },
  {
   "cell_type": "code",
   "execution_count": 15,
   "metadata": {},
   "outputs": [
    {
     "name": "stdout",
     "output_type": "stream",
     "text": [
      "Best SVM training error: 0.068500\n",
      "Best SVM test error: 0.165345\n"
     ]
    }
   ],
   "source": [
    "best_SVM = clf.best_estimator_\n",
    "best_SVM.fit(X_train, y_train)\n",
    "\n",
    "Y_training_prediction_SVM = best_SVM.predict(X_train)\n",
    "Y_test_prediction_SVM = best_SVM.predict(X_test)\n",
    "\n",
    "training_error = 1. - best_SVM.score(X_train,y_train)\n",
    "test_error = 1. - best_SVM.score(X_test,y_test)\n",
    "\n",
    "print (\"Best SVM training error: %f\" % training_error)\n",
    "print (\"Best SVM test error: %f\" % test_error)\n",
    "\n"
   ]
  },
  {
   "cell_type": "markdown",
   "metadata": {},
   "source": [
    "Just for comparison, let's also use logistic regression (with standard parameters from scikit-learn, i.e. some regularization is included).\n",
    "\n",
    "### TO DO 8 Try first without regularization (use a very large large C)"
   ]
  },
  {
   "cell_type": "code",
   "execution_count": 16,
   "metadata": {},
   "outputs": [
    {
     "name": "stdout",
     "output_type": "stream",
     "text": [
      "Accuracy of the training model: 1.0\n",
      "Accuracy of the test model: 0.7683448275862069\n",
      "Best logistic regression training error: 0.000000\n",
      "Best logistic regression test error: 0.231655\n"
     ]
    }
   ],
   "source": [
    "from sklearn import linear_model\n",
    "from sklearn import metrics\n",
    "from sklearn.metrics import accuracy_score\n",
    "\n",
    "reg_full =  linear_model.LogisticRegression(C = 1e8, penalty ='none', solver = 'newton-cg')#ADD CODE\n",
    "reg_full.fit(X_train, y_train)\n",
    "\n",
    "# prediction on training data\n",
    "Y_training_prediction_LR = reg_full.predict(X_train)  \n",
    "\n",
    "# compute accuracy as suggested above using metrics.accuracy_score from scikit-learn for training dataset\n",
    "accuracy_training = accuracy_score(y_train, Y_training_prediction_LR)\n",
    "print('Accuracy of the training model:', accuracy_training)\n",
    "\n",
    "# prediction on test data\n",
    "Y_test_prediction_LR = reg_full.predict(X_test)# COMPLETE\n",
    "\n",
    "# compute accuracy as suggested above using metrics.accuracy_score from scikit-learn for test dataset\n",
    "accuracy_test = accuracy_score(y_test, Y_test_prediction_LR)\n",
    "print('Accuracy of the test model:', accuracy_test)\n",
    "\n",
    "\n",
    "training_error = 1. - accuracy_training\n",
    "test_error = 1. - accuracy_test\n",
    "\n",
    "print (\"Best logistic regression training error: %f\" % training_error)\n",
    "print (\"Best logistic regression test error: %f\" % test_error)\n"
   ]
  },
  {
   "cell_type": "markdown",
   "metadata": {},
   "source": [
    "### TO DO 9 Then use also some regularization "
   ]
  },
  {
   "cell_type": "code",
   "execution_count": 17,
   "metadata": {},
   "outputs": [
    {
     "name": "stdout",
     "output_type": "stream",
     "text": [
      "Accuracy of the training model: 0.815\n",
      "Accuracy of the test model: 0.7834655172413794\n",
      "Best regularized logistic regression training error: 0.185000\n",
      "Best regularized logistic regression test error: 0.216534\n"
     ]
    }
   ],
   "source": [
    "from sklearn import linear_model\n",
    "from sklearn import metrics\n",
    "from sklearn.metrics import accuracy_score\n",
    "\n",
    "reg_fullLR =  linear_model.LogisticRegressionCV(Cs=[0.01], solver='newton-cg',cv=4, penalty='l2')\n",
    "reg_fullLR.fit(X_train, y_train)\n",
    "\n",
    "# prediction on training data\n",
    "Y_training_prediction_LR = reg_fullLR.predict(X_train)  \n",
    "\n",
    "# compute accuracy as suggested above using metrics.accuracy_score from scikit-learn for training dataset\n",
    "accuracy_training = accuracy_score(y_train, Y_training_prediction_LR)\n",
    "print('Accuracy of the training model:', accuracy_training)\n",
    "\n",
    "# prediction on test data\n",
    "Y_test_prediction_LR = reg_fullLR.predict(X_test)# COMPLETE\n",
    "\n",
    "# compute accuracy as suggested above using metrics.accuracy_score from scikit-learn for test dataset\n",
    "accuracy_test = accuracy_score(y_test, Y_test_prediction_LR)\n",
    "print('Accuracy of the test model:', accuracy_test)\n",
    "\n",
    "\n",
    "training_error = 1. - accuracy_training\n",
    "test_error = 1. - accuracy_test\n",
    "\n",
    "print (\"Best regularized logistic regression training error: %f\" % training_error)\n",
    "print (\"Best regularized logistic regression test error: %f\" % test_error)\n",
    "\n",
    "\n",
    "\n",
    "\n"
   ]
  },
  {
   "cell_type": "markdown",
   "metadata": {},
   "source": [
    "## TO DO 10\n",
    "Compare and discuss:\n",
    "- the results from SVM with m=500 and with m=2000 training data points. If you stopped the SVM, include such aspect in your comparison.\n",
    "- the results of SVM and of Logistic Regression with and without regularization\n",
    "\n",
    "We can see that the training error of SVM is better when the size of the training is smaller (probably we are overfitting the data when m is larger - but still they are the same order). On the other hand, we can appreciate that the test error of SVM is better when m is larger (that's something that we expected because we have trained our model with more samples).\n",
    "\n",
    "In general, we can see that for large samples (m = 2000) \n",
    "We can also see when m = 2000 that both training error and test error are better for SVM than for logistic regression (with and without regularization). \n",
    "\n",
    "Finally, we can see that the training error for the without regularization is 0 ('ideal') while the training error for the regularization one is 0.185000 as we expected because we are allowing some 'error' to this set when computing regularization. Furthermore, the test error using regularization is smaller than the non regularized one (that is the goal of regularization).  Nevertheless, both quantities are similar (since m is too big the two values converges and is something that we expect - its clearer in the other lab).\n",
    "\n",
    "#### Summary of results (to be ignored) \n",
    "m = 500\n",
    "Best SVM training error: 0.046000\n",
    "Best SVM test error: 0.214487\n",
    "\n",
    "m = 2000\n",
    "Best SVM training error: 0.068500\n",
    "Best SVM test error: 0.165345\n",
    "Best logistic regression training error: 0.000000\n",
    "Best logistic regression test error: 0.231655\n",
    "Best regularized logistic regression training error: 0.185000\n",
    "Best regularized logistic regression test error: 0.216534"
   ]
  },
  {
   "cell_type": "markdown",
   "metadata": {},
   "source": [
    "## TO DO 10\n",
    "Plot an item of clothing that is missclassified by logistic regression and correctly classified by SVM."
   ]
  },
  {
   "cell_type": "code",
   "execution_count": 18,
   "metadata": {},
   "outputs": [],
   "source": [
    "import matplotlib.pyplot as plt\n",
    "%matplotlib inline\n",
    "\n"
   ]
  },
  {
   "cell_type": "code",
   "execution_count": 19,
   "metadata": {},
   "outputs": [],
   "source": [
    "#Making Predictions\n",
    "LR_prediction = reg_fullLR.predict(X_test)\n",
    "SVM_prediction = best_SVM.predict(X_test)\n"
   ]
  },
  {
   "cell_type": "code",
   "execution_count": 20,
   "metadata": {},
   "outputs": [
    {
     "name": "stdout",
     "output_type": "stream",
     "text": [
      "[8 4 5 ... 1 9 2]\n",
      "[5 1 9 ... 1 9 2]\n",
      "[5 1 9 ... 1 9 4]\n"
     ]
    }
   ],
   "source": [
    "print(y)\n",
    "print(SVM_prediction)\n",
    "print(LR_prediction)\n",
    "\n"
   ]
  },
  {
   "cell_type": "code",
   "execution_count": 21,
   "metadata": {},
   "outputs": [
    {
     "name": "stdout",
     "output_type": "stream",
     "text": [
      "INPUT:\n"
     ]
    },
    {
     "data": {
      "image/png": "[encoded data removed]",
      "text/plain": [
       "<Figure size 432x288 with 1 Axes>"
      ]
     },
     "metadata": {
      "needs_background": "light"
     },
     "output_type": "display_data"
    },
    {
     "name": "stdout",
     "output_type": "stream",
     "text": [
      "LABEL: 7\n",
      "misclassifed point= [[0. 0. 0. ... 0. 0. 0.]\n",
      " [0. 0. 0. ... 0. 0. 0.]\n",
      " [0. 0. 0. ... 0. 0. 0.]\n",
      " ...\n",
      " [0. 0. 0. ... 0. 0. 0.]\n",
      " [0. 0. 0. ... 0. 0. 0.]\n",
      " [0. 0. 0. ... 0. 0. 0.]] [8 4 5 ... 1 9 2]\n",
      "11\n"
     ]
    }
   ],
   "source": [
    "\n",
    "m_training = 2000\n",
    "\n",
    "for i in range(m_training):\n",
    "\n",
    "    if LR_prediction[i] != y[i] and SVM_prediction[i] == y[i]:\n",
    "        plot_input(X,y,50)\n",
    "        print('misclassifed point=', X, y)\n",
    "        print(i)\n",
    "        break\n",
    "        \n",
    "   "
   ]
  },
  {
   "cell_type": "markdown",
   "metadata": {},
   "source": [
    "## TO DO 11\n",
    "Plot the confusion matrix for the SVM classifier and for logistic regression.\n",
    "The confusion matrix has one column for each predicted label and one row for each true label. \n",
    "It shows for each class in the corresponding row how many samples belonging to that class gets each possible output label.\n",
    "Notice that the diagonal contains the correctly classified samples, while the other cells correspond to errors.\n",
    "You can obtain it with the sklearn.metrics.confusion_matrix function (see the documentation).\n",
    "Try also to normalize the confusion matrix by the number of samples in each class in order to measure the accuracy on each single class.\n"
   ]
  },
  {
   "cell_type": "code",
   "execution_count": 22,
   "metadata": {},
   "outputs": [
    {
     "name": "stdout",
     "output_type": "stream",
     "text": [
      "Labels and frequencies in test set:  [5798 5804 5789 5796 5799 5803 5795 5815 5813 5788]\n",
      "\n",
      " Confusion matrix SVM  \n",
      " \n",
      " [[4586   14  139  352   15    4  634    0   54    0]\n",
      " [  34 5477   92  187    3    0   11    0    0    0]\n",
      " [  91    5 4272   59  817    1  515    0   29    0]\n",
      " [ 191   42   72 5168  150    0  153    0   19    1]\n",
      " [   7    4  472  370 4451    3  473    0   18    1]\n",
      " [   8    0    3    8    0 5254    5  313   24  188]\n",
      " [ 965   10  818  199  547    2 3170    0   83    1]\n",
      " [   0    0    0    0    0  223    0 5154    5  433]\n",
      " [  57    6   63   44   21   55  103   38 5416   10]\n",
      " [   0    0    3    6    0  109    5  198    5 5462]]\n",
      "\n",
      " Confusion matrix SVM (normalized)   \n",
      " \n",
      " [[0.79 0.   0.02 0.06 0.   0.   0.11 0.   0.01 0.  ]\n",
      " [0.01 0.94 0.02 0.03 0.   0.   0.   0.   0.   0.  ]\n",
      " [0.02 0.   0.74 0.01 0.14 0.   0.09 0.   0.01 0.  ]\n",
      " [0.03 0.01 0.01 0.89 0.03 0.   0.03 0.   0.   0.  ]\n",
      " [0.   0.   0.08 0.06 0.77 0.   0.08 0.   0.   0.  ]\n",
      " [0.   0.   0.   0.   0.   0.91 0.   0.05 0.   0.03]\n",
      " [0.17 0.   0.14 0.03 0.09 0.   0.55 0.   0.01 0.  ]\n",
      " [0.   0.   0.   0.   0.   0.04 0.   0.89 0.   0.07]\n",
      " [0.01 0.   0.01 0.01 0.   0.01 0.02 0.01 0.93 0.  ]\n",
      " [0.   0.   0.   0.   0.   0.02 0.   0.03 0.   0.94]]\n",
      "\n",
      " Confusion matrix LR  \n",
      " \n",
      " [[4480   29  145  603   18  154  257    1  109    2]\n",
      " [  35 5388  109  204   32   14   21    0    1    0]\n",
      " [  72    6 3842   44 1062  177  504    1   81    0]\n",
      " [ 178   58   60 5115  114   78  174    0   18    1]\n",
      " [  11   30  573  428 4121   86  481    0   68    1]\n",
      " [   1    0    2   10    0 4752    3  655   44  336]\n",
      " [1091   13  840  372  630  215 2471    1  160    2]\n",
      " [   0    0    0    0    0  543    0 4672    6  594]\n",
      " [  14    5   93   83   23  216   85   74 5196   24]\n",
      " [   0    0    1    9    1  162    4  205    2 5404]]\n",
      "\n",
      " Confusion matrix LR (normalized)   \n",
      " \n",
      " [[0.77 0.01 0.03 0.1  0.   0.03 0.04 0.   0.02 0.  ]\n",
      " [0.01 0.93 0.02 0.04 0.01 0.   0.   0.   0.   0.  ]\n",
      " [0.01 0.   0.66 0.01 0.18 0.03 0.09 0.   0.01 0.  ]\n",
      " [0.03 0.01 0.01 0.88 0.02 0.01 0.03 0.   0.   0.  ]\n",
      " [0.   0.01 0.1  0.07 0.71 0.01 0.08 0.   0.01 0.  ]\n",
      " [0.   0.   0.   0.   0.   0.82 0.   0.11 0.01 0.06]\n",
      " [0.19 0.   0.14 0.06 0.11 0.04 0.43 0.   0.03 0.  ]\n",
      " [0.   0.   0.   0.   0.   0.09 0.   0.8  0.   0.1 ]\n",
      " [0.   0.   0.02 0.01 0.   0.04 0.01 0.01 0.89 0.  ]\n",
      " [0.   0.   0.   0.   0.   0.03 0.   0.04 0.   0.93]]\n"
     ]
    }
   ],
   "source": [
    "# for better aligned printing of confusion matrix use floatmode='fixed' (not supported in all versions of Python)\n",
    "from sklearn.metrics import confusion_matrix\n",
    "np.set_printoptions(precision=2, suppress=True) \n",
    "\n",
    "u, counts = np.unique(y_test, return_counts=True)\n",
    "print(\"Labels and frequencies in test set: \", counts)\n",
    "\n",
    "confusion_SVM = confusion_matrix(y_test, SVM_prediction)\n",
    "\n",
    "print(\"\\n Confusion matrix SVM  \\n \\n\", confusion_SVM)\n",
    "print(\"\\n Confusion matrix SVM (normalized)   \\n \\n\", confusion_SVM /counts[:,None] )\n",
    "\n",
    "\n",
    "confusion_LR = confusion_matrix(y_test, LR_prediction)#ADD CODE\n",
    "print(\"\\n Confusion matrix LR  \\n \\n\", confusion_LR)\n",
    "print(\"\\n Confusion matrix LR (normalized)   \\n \\n\", confusion_LR /counts[:,None] )"
   ]
  },
  {
   "cell_type": "code",
   "execution_count": 23,
   "metadata": {},
   "outputs": [
    {
     "data": {
      "text/plain": [
       "<matplotlib.axes._subplots.AxesSubplot at 0x210bc11d400>"
      ]
     },
     "execution_count": 23,
     "metadata": {},
     "output_type": "execute_result"
    },
    {
     "data": {
      "image/png": "[encoded data removed]",
      "text/plain": [
       "<Figure size 1296x576 with 4 Axes>"
      ]
     },
     "metadata": {
      "needs_background": "light"
     },
     "output_type": "display_data"
    }
   ],
   "source": [
    "index = ['T-shirt/top','Trouser', 'Pullover', 'Dress', 'Coat', 'Sandal', 'Shirt','Sneaker','Bag', 'Ankle boo']  \n",
    "columns = ['T-shirt/top','Trouser', 'Pullover', 'Dress', 'Coat', 'Sandal', 'Shirt','Sneaker','Bag', 'Ankle boo'] \n",
    "\n",
    "\n",
    "cm1 =confusion_SVM /counts[:,None]\n",
    "cm2 =confusion_LR /counts[:,None]\n",
    "\n",
    "cm1_df = pd.DataFrame(cm1,columns,index)                      \n",
    "cm2_df = pd.DataFrame(cm2,columns,index)                      \n",
    "\n",
    "#plt.figure(figsize=(8,6))  \n",
    "#plt.title('Confusion Matrix for SVM')\n",
    "#sns.heatmap(cm1_df, annot=True, cmap=plt.cm.Blues)\n",
    "\n",
    "#plt.figure(figsize=(8,6))\n",
    "#sns.heatmap(cm2_df, annot=True, cmap=plt.cm.Blues)\n",
    "#plt.title('Confusion Matrix for LR')\n",
    "\n",
    "\n",
    "fig, (ax1, ax2) = plt.subplots(1, 2, figsize = (18,8))\n",
    "ax1.set_title('Confusion matrix for SVM')\n",
    "ax2.set_title('Confusion matrix for LR')\n",
    "sns.heatmap(cm1_df, annot=True, cmap=plt.cm.Blues, ax=ax1)\n",
    "sns.heatmap(cm2_df, annot=True, cmap=plt.cm.Blues, ax=ax2)"
   ]
  },
  {
   "cell_type": "markdown",
   "metadata": {},
   "source": [
    "## TO DO 12\n",
    "Have a look at the confusion matrices and comment on the obtained accuracies. Why some classes have lower accuracies and others \n",
    "\n",
    "The confusion matrix represents how many samples have been classified correctly. We can see in both cases that most of the elements of the diagonal (corresponding to a good classification, meaning T-shirt is indeed a T-shirt) are the ones with the most probability.  For example, using SVM we can see that 79% of the samples of T-shirts have been classified as T-shirts while 17% where classified as Shirt (which is an honest mistake they are really similar). The same happens using LR.  In general, we can also see that most of the elements of the diagonal are greater using SVM than LR (but that's something that we already expected because our accuracy of the SVM was better than the LR thus more points were classified correctly).\n",
    " \n",
    "\n"
   ]
  },
  {
   "cell_type": "code",
   "execution_count": 24,
   "metadata": {},
   "outputs": [],
   "source": [
    "### ADD CODE TO NORMALIZE CONFUSION MATRIX AND PRINT THE NORMALIZED MATRIX\n",
    "#a diferent aproach (using the determinant)\n",
    "from sklearn.preprocessing import normalize\n",
    "normed_mat_LR = normalize(confusion_LR, axis = 1)\n",
    "normed_mat_SVM = normalize(confusion_SVM, axis = 1)\n",
    "\n"
   ]
  }
 ],
 "metadata": {
  "kernelspec": {
   "display_name": "Python 3",
   "language": "python",
   "name": "python3"
  },
  "language_info": {
   "codemirror_mode": {
    "name": "ipython",
    "version": 3
   },
   "file_extension": ".py",
   "mimetype": "text/x-python",
   "name": "python",
   "nbconvert_exporter": "python",
   "pygments_lexer": "ipython3",
   "version": "3.7.3"
  }
 },
 "nbformat": 4,
 "nbformat_minor": 2
}
