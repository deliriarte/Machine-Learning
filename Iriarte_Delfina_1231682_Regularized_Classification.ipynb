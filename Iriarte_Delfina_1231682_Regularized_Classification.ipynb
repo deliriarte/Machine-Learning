{
 "cells": [
  {
   "cell_type": "markdown",
   "metadata": {},
   "source": [
    "# Regularized Classification on Student Alcohol Dataset\n",
    "\n",
    "We are going to use a dataset from Kaggle (https://www.kaggle.com/uciml/student-alcohol-consumption)\n",
    " \n",
    "### Dataset description\n",
    "\n",
    ">The data were obtained in a survey of students from the portuguese language courses in a secondary school. It contains a lot of interesting social, gender and study information about students.\n",
    "\n",
    "> Have a look at the information about the dataset at the webpage: https://www.kaggle.com/uciml/student-alcohol-consumption\n",
    "\n",
    ">In this context, we ask you to estimate which students are the most prone to alcohol consumption given some social and educational information. "
   ]
  },
  {
   "cell_type": "markdown",
   "metadata": {},
   "source": [
    "# TO DO: put your Surname, Name and ID number (\"numero di matricola\")\n",
    "\n",
    "\n",
    "Student Name: Iriarte Delfina\n",
    "\n",
    "ID Number: 1231682\n"
   ]
  },
  {
   "cell_type": "code",
   "execution_count": 1,
   "metadata": {},
   "outputs": [],
   "source": [
    "import numpy as np\n",
    "# The seed will be used as seed for splitting the data into training and test. \n",
    "# You can place your ID or also try different seeds to see the impact of the random subdvision of the train and test sets\n",
    "# and of the random components in the algorithm on the results\n",
    "IDnumber = 1231682\n",
    "np.random.seed(IDnumber)"
   ]
  },
  {
   "cell_type": "code",
   "execution_count": 2,
   "metadata": {},
   "outputs": [],
   "source": [
    "# let's load library for plotting\n",
    "%matplotlib inline  \n",
    "import matplotlib.pyplot as plt\n",
    "\n",
    "\n",
    "from sklearn import metrics\n",
    "from sklearn.metrics import accuracy_score"
   ]
  },
  {
   "cell_type": "markdown",
   "metadata": {},
   "source": [
    "## Data Preprocessing\n",
    "\n",
    "Load the data from a .csv file. In this notebook we use the pandas (Python Data Analysis Library) package, since it provides useful functions to clean the data. In particular, it allows us to remove samples with missing data, as we do below. We also plot some descriptions of columns, check the pandas documentation for 'describe()' if you want to know more."
   ]
  },
  {
   "cell_type": "code",
   "execution_count": 3,
   "metadata": {},
   "outputs": [
    {
     "data": {
      "text/html": [
       "<div>\n",
       "<style scoped>\n",
       "    .dataframe tbody tr th:only-of-type {\n",
       "        vertical-align: middle;\n",
       "    }\n",
       "\n",
       "    .dataframe tbody tr th {\n",
       "        vertical-align: top;\n",
       "    }\n",
       "\n",
       "    .dataframe thead th {\n",
       "        text-align: right;\n",
       "    }\n",
       "</style>\n",
       "<table border=\"1\" class=\"dataframe\">\n",
       "  <thead>\n",
       "    <tr style=\"text-align: right;\">\n",
       "      <th></th>\n",
       "      <th>drink_alcohol</th>\n",
       "      <th>age</th>\n",
       "      <th>Medu</th>\n",
       "      <th>Fedu</th>\n",
       "      <th>traveltime</th>\n",
       "      <th>studytime</th>\n",
       "      <th>famrel</th>\n",
       "      <th>freetime</th>\n",
       "      <th>goout</th>\n",
       "      <th>health</th>\n",
       "      <th>absences</th>\n",
       "      <th>Marks</th>\n",
       "    </tr>\n",
       "  </thead>\n",
       "  <tbody>\n",
       "    <tr>\n",
       "      <th>count</th>\n",
       "      <td>649.000000</td>\n",
       "      <td>649.000000</td>\n",
       "      <td>649.000000</td>\n",
       "      <td>649.000000</td>\n",
       "      <td>649.000000</td>\n",
       "      <td>649.000000</td>\n",
       "      <td>649.000000</td>\n",
       "      <td>649.000000</td>\n",
       "      <td>649.000000</td>\n",
       "      <td>649.000000</td>\n",
       "      <td>649.000000</td>\n",
       "      <td>649.000000</td>\n",
       "    </tr>\n",
       "    <tr>\n",
       "      <th>mean</th>\n",
       "      <td>0.454545</td>\n",
       "      <td>16.744222</td>\n",
       "      <td>2.514638</td>\n",
       "      <td>2.306626</td>\n",
       "      <td>1.568567</td>\n",
       "      <td>1.930663</td>\n",
       "      <td>3.930663</td>\n",
       "      <td>3.180277</td>\n",
       "      <td>3.184900</td>\n",
       "      <td>3.536210</td>\n",
       "      <td>3.659476</td>\n",
       "      <td>11.906009</td>\n",
       "    </tr>\n",
       "    <tr>\n",
       "      <th>std</th>\n",
       "      <td>0.498314</td>\n",
       "      <td>1.218138</td>\n",
       "      <td>1.134552</td>\n",
       "      <td>1.099931</td>\n",
       "      <td>0.748660</td>\n",
       "      <td>0.829510</td>\n",
       "      <td>0.955717</td>\n",
       "      <td>1.051093</td>\n",
       "      <td>1.175766</td>\n",
       "      <td>1.446259</td>\n",
       "      <td>4.640759</td>\n",
       "      <td>3.230656</td>\n",
       "    </tr>\n",
       "    <tr>\n",
       "      <th>min</th>\n",
       "      <td>0.000000</td>\n",
       "      <td>15.000000</td>\n",
       "      <td>0.000000</td>\n",
       "      <td>0.000000</td>\n",
       "      <td>1.000000</td>\n",
       "      <td>1.000000</td>\n",
       "      <td>1.000000</td>\n",
       "      <td>1.000000</td>\n",
       "      <td>1.000000</td>\n",
       "      <td>1.000000</td>\n",
       "      <td>0.000000</td>\n",
       "      <td>0.000000</td>\n",
       "    </tr>\n",
       "    <tr>\n",
       "      <th>25%</th>\n",
       "      <td>0.000000</td>\n",
       "      <td>16.000000</td>\n",
       "      <td>2.000000</td>\n",
       "      <td>1.000000</td>\n",
       "      <td>1.000000</td>\n",
       "      <td>1.000000</td>\n",
       "      <td>4.000000</td>\n",
       "      <td>3.000000</td>\n",
       "      <td>2.000000</td>\n",
       "      <td>2.000000</td>\n",
       "      <td>0.000000</td>\n",
       "      <td>10.000000</td>\n",
       "    </tr>\n",
       "    <tr>\n",
       "      <th>50%</th>\n",
       "      <td>0.000000</td>\n",
       "      <td>17.000000</td>\n",
       "      <td>2.000000</td>\n",
       "      <td>2.000000</td>\n",
       "      <td>1.000000</td>\n",
       "      <td>2.000000</td>\n",
       "      <td>4.000000</td>\n",
       "      <td>3.000000</td>\n",
       "      <td>3.000000</td>\n",
       "      <td>4.000000</td>\n",
       "      <td>2.000000</td>\n",
       "      <td>12.000000</td>\n",
       "    </tr>\n",
       "    <tr>\n",
       "      <th>75%</th>\n",
       "      <td>1.000000</td>\n",
       "      <td>18.000000</td>\n",
       "      <td>4.000000</td>\n",
       "      <td>3.000000</td>\n",
       "      <td>2.000000</td>\n",
       "      <td>2.000000</td>\n",
       "      <td>5.000000</td>\n",
       "      <td>4.000000</td>\n",
       "      <td>4.000000</td>\n",
       "      <td>5.000000</td>\n",
       "      <td>6.000000</td>\n",
       "      <td>14.000000</td>\n",
       "    </tr>\n",
       "    <tr>\n",
       "      <th>max</th>\n",
       "      <td>1.000000</td>\n",
       "      <td>22.000000</td>\n",
       "      <td>4.000000</td>\n",
       "      <td>4.000000</td>\n",
       "      <td>4.000000</td>\n",
       "      <td>4.000000</td>\n",
       "      <td>5.000000</td>\n",
       "      <td>5.000000</td>\n",
       "      <td>5.000000</td>\n",
       "      <td>5.000000</td>\n",
       "      <td>32.000000</td>\n",
       "      <td>19.000000</td>\n",
       "    </tr>\n",
       "  </tbody>\n",
       "</table>\n",
       "</div>"
      ],
      "text/plain": [
       "       drink_alcohol         age        Medu        Fedu  traveltime  \\\n",
       "count     649.000000  649.000000  649.000000  649.000000  649.000000   \n",
       "mean        0.454545   16.744222    2.514638    2.306626    1.568567   \n",
       "std         0.498314    1.218138    1.134552    1.099931    0.748660   \n",
       "min         0.000000   15.000000    0.000000    0.000000    1.000000   \n",
       "25%         0.000000   16.000000    2.000000    1.000000    1.000000   \n",
       "50%         0.000000   17.000000    2.000000    2.000000    1.000000   \n",
       "75%         1.000000   18.000000    4.000000    3.000000    2.000000   \n",
       "max         1.000000   22.000000    4.000000    4.000000    4.000000   \n",
       "\n",
       "        studytime      famrel    freetime       goout      health    absences  \\\n",
       "count  649.000000  649.000000  649.000000  649.000000  649.000000  649.000000   \n",
       "mean     1.930663    3.930663    3.180277    3.184900    3.536210    3.659476   \n",
       "std      0.829510    0.955717    1.051093    1.175766    1.446259    4.640759   \n",
       "min      1.000000    1.000000    1.000000    1.000000    1.000000    0.000000   \n",
       "25%      1.000000    4.000000    3.000000    2.000000    2.000000    0.000000   \n",
       "50%      2.000000    4.000000    3.000000    3.000000    4.000000    2.000000   \n",
       "75%      2.000000    5.000000    4.000000    4.000000    5.000000    6.000000   \n",
       "max      4.000000    5.000000    5.000000    5.000000    5.000000   32.000000   \n",
       "\n",
       "            Marks  \n",
       "count  649.000000  \n",
       "mean    11.906009  \n",
       "std      3.230656  \n",
       "min      0.000000  \n",
       "25%     10.000000  \n",
       "50%     12.000000  \n",
       "75%     14.000000  \n",
       "max     19.000000  "
      ]
     },
     "execution_count": 3,
     "metadata": {},
     "output_type": "execute_result"
    }
   ],
   "source": [
    "# let's load pands and numpy\n",
    "import pandas as pd\n",
    "import numpy as np\n",
    "import warnings\n",
    "warnings.filterwarnings('ignore')\n",
    "\n",
    "# this time we use pandas to load and clean the dataset\n",
    "# read the data from the csv file\n",
    "df = pd.read_csv(\"data/student-data.csv\", sep=',')\n",
    "\n",
    "# let's see some statistics about the data \n",
    "df.describe()"
   ]
  },
  {
   "cell_type": "markdown",
   "metadata": {
    "collapsed": true
   },
   "source": [
    "Now we create data matrices: many of the features are categorical, so we need to encode them with ***indicator matrices*** (i.e., using the so called one-hot encoding). That is, if a feature can take $\\ell$ different values $v_1,\\dots,v_{\\ell}$, we create $\\ell$ indicator (0-1) features $I_1,\\dots,I_{\\ell}$, such that $I_{j} = 1$ if and only if the value of the feature is $v_j$. This can be done in Python by first encode a feature with integers with LabelEncoder() and then obtain the indicator variables with OneHotEncoder()."
   ]
  },
  {
   "cell_type": "code",
   "execution_count": 4,
   "metadata": {},
   "outputs": [
    {
     "name": "stdout",
     "output_type": "stream",
     "text": [
      "['drink_alcohol', 'school', 'sex', 'age', 'address', 'famsize', 'Pstatus', 'Medu', 'Fedu', 'Mjob', 'Fjob', 'guardian', 'traveltime', 'studytime', 'famrel', 'freetime', 'goout', 'health', 'absences', 'Marks']\n",
      "Number of samples: 649\n",
      "Categorical feature: school    Number of categories: (2,)\n",
      "Categorical feature: sex    Number of categories: (2,)\n",
      "Valued feature: age\n",
      "Categorical feature: address    Number of categories: (2,)\n",
      "Categorical feature: famsize    Number of categories: (2,)\n",
      "Categorical feature: Pstatus    Number of categories: (2,)\n",
      "Categorical feature: Medu    Number of categories: (5,)\n",
      "Categorical feature: Fedu    Number of categories: (5,)\n",
      "Categorical feature: Mjob    Number of categories: (5,)\n",
      "Categorical feature: Fjob    Number of categories: (5,)\n",
      "Categorical feature: guardian    Number of categories: (3,)\n",
      "Categorical feature: traveltime    Number of categories: (4,)\n",
      "Categorical feature: studytime    Number of categories: (4,)\n",
      "Categorical feature: famrel    Number of categories: (5,)\n",
      "Categorical feature: freetime    Number of categories: (5,)\n",
      "Categorical feature: goout    Number of categories: (5,)\n",
      "Categorical feature: health    Number of categories: (5,)\n",
      "Valued feature: absences\n",
      "Valued feature: Marks\n",
      "Shape of X: (649, 64)\n",
      "Sample element from X: [1.0 0.0 0.0 1.0 15 0.0 1.0 1.0 0.0 0.0 1.0 0.0 0.0 0.0 0.0 1.0 0.0 0.0\n",
      " 0.0 1.0 0.0 0.0 0.0 0.0 0.0 1.0 0.0 0.0 1.0 0.0 0.0 0.0 1.0 0.0 1.0 0.0\n",
      " 0.0 0.0 0.0 1.0 0.0 0.0 0.0 0.0 0.0 1.0 0.0 0.0 0.0 0.0 1.0 0.0 1.0 0.0\n",
      " 0.0 0.0 0.0 1.0 0.0 0.0 0.0 0.0 0 14]\n"
     ]
    }
   ],
   "source": [
    "#df.values contains the data, both the values of instances and the value of the label\n",
    "Data = df.values\n",
    "\n",
    "# the matrix including the categorical data is given by columns from the second one \n",
    "X_categorical = Data[:,1:]\n",
    "\n",
    "# the target value (class) is in the first column\n",
    "Y = Data[:,0]\n",
    "\n",
    "print(list(df))\n",
    "\n",
    "# get the number d of features of each sample\n",
    "d = X_categorical.shape[1]\n",
    "\n",
    "# get the number m of samples\n",
    "m = X_categorical.shape[0]\n",
    "\n",
    "#let's see what the number of samples is\n",
    "print(\"Number of samples: {}\".format(m))\n",
    "\n",
    "#now encode categorical variables using integers and one-hot-encoder\n",
    "from sklearn.preprocessing import LabelEncoder, OneHotEncoder\n",
    "label_encoder = LabelEncoder()\n",
    "onehot_encoder = OneHotEncoder(categories='auto')\n",
    "\n",
    "# encode the first column of the data matrix into indicator variables\n",
    "X_tmp = label_encoder.fit_transform(X_categorical[:,0])\n",
    "X_tmp = X_tmp.reshape(X_tmp.shape[0],1)\n",
    "X = onehot_encoder.fit_transform(X_tmp[:,0].reshape(-1,1)).toarray()\n",
    "print(\"Categorical feature:\", df.columns[1], \"   Number of categories:\", X[1,:].shape)\n",
    "\n",
    "# repeat for the other categorical input variables\n",
    "index_categorical = [1,3,4,5,6,7,8,9,10,11,12,13,14,15,16]\n",
    "\n",
    "for i in range(1,19):\n",
    "    if i in index_categorical:\n",
    "        X_tmp = label_encoder.fit_transform(X_categorical[:,i])\n",
    "        X_tmp = X_tmp.reshape(X_tmp.shape[0],1)\n",
    "        X_tmp = onehot_encoder.fit_transform(X_tmp[:,0].reshape(-1,1)).toarray()\n",
    "        X = np.hstack((X,X_tmp))\n",
    "        print(\"Categorical feature:\", df.columns[i+1], \"   Number of categories:\", X_tmp[1,:].shape)\n",
    "    else:\n",
    "        X_tmp = X_categorical[:,i]\n",
    "        X_tmp = X_tmp.reshape(X_tmp.shape[0],1)\n",
    "        X = np.hstack((X,X_tmp))\n",
    "        print(\"Valued feature:\", df.columns[i+1])\n",
    "        \n",
    "print(\"Shape of X:\", X.shape)\n",
    "print(\"Sample element from X:\", X[20,:])"
   ]
  },
  {
   "cell_type": "markdown",
   "metadata": {},
   "source": [
    "## Data Preprocessing\n",
    "\n",
    "The class labels are already 0-1, so we can use them directly."
   ]
  },
  {
   "cell_type": "code",
   "execution_count": 5,
   "metadata": {},
   "outputs": [
    {
     "name": "stdout",
     "output_type": "stream",
     "text": [
      "Number of classes: 2\n"
     ]
    }
   ],
   "source": [
    "# properly encode the target labels\n",
    "Y = label_encoder.fit_transform(Y)\n",
    "K = max(Y) + 1 # number of classes\n",
    "\n",
    "print(\"Number of classes: \"+str(K))"
   ]
  },
  {
   "cell_type": "markdown",
   "metadata": {},
   "source": [
    "Given $m$ total data points, keep $m\\_training = 100$ data points as data for ***training and validation*** and $m\\_test = m - m\\_training$ as test data. Splitting is random, using as seed your ID number. Make sure that the training set contains at least 10 instances from each class.If it does not, modify the code so to apply a random\n",
    "permutation (or the same permutation multiple times) to the samples until this happens."
   ]
  },
  {
   "cell_type": "code",
   "execution_count": 6,
   "metadata": {},
   "outputs": [
    {
     "name": "stdout",
     "output_type": "stream",
     "text": [
      "[1 1 0 1 0 1 0 0 0 0 0 0 0 0 0 1 0 0 0 1 0 1 0 0 1 0 0 1 1 0 0 0 0 1 1 0 1\n",
      " 0 0 1 1 1 0 1 0 1 0 0 1 0 1 1 1 0 0 1 1 1 0 0 0 0 1 0 0 1 1 1 1 0 0 0 0 1\n",
      " 0 1 1 1 1 0 0 1 1 1 1 0 1 0 0 1 0 0 1 0 0 1 1 0 1 0]\n",
      "0.45454545454545453\n"
     ]
    }
   ],
   "source": [
    "# Split data into training and validation data\n",
    "# load a package which is useful for the training-test splitting\n",
    "# from sklearn.cross_validation import train_test_split\n",
    "from sklearn.model_selection import train_test_split\n",
    "\n",
    "# number of samples\n",
    "m = np.shape(X)[0]\n",
    "\n",
    "#Divide in training and test: make sure that your training set\n",
    "#contains at least 10 elements from class 1 and at least 10 elements\n",
    "#from class -1! If it does not, modify the code so to apply more random\n",
    "#permutations (or the same permutation multiple times) until this happens.\n",
    "permutation = np.random.permutation(m)\n",
    "X = X[permutation]\n",
    "Y = Y[permutation]\n",
    "\n",
    "m_training = 100 #  # use 100 samples for training + validation...\n",
    "m_test = m-m_training # and the rest for testing\n",
    "\n",
    "# test_size is the proportion of samples in the test set\n",
    "X_training, X_test, Y_training, Y_test = train_test_split(X, Y, test_size =float(m_test)/float(m), random_state = IDnumber)\n",
    "\n",
    "print(Y_training)\n",
    "\n",
    "m_training = X_training.shape[0]\n",
    "m_test = X_test.shape[0]\n",
    "\n",
    "#let's see what the fraction of ones in the entire dataset is\n",
    "print(float(sum(Y_training)+sum(Y_test))/float(m_training+m_test))"
   ]
  },
  {
   "cell_type": "markdown",
   "metadata": {},
   "source": [
    "Standardize the data to have zero-mean and unit variance (columnwise):"
   ]
  },
  {
   "cell_type": "code",
   "execution_count": 7,
   "metadata": {},
   "outputs": [],
   "source": [
    "# Standardize the Features Matrix\n",
    "from sklearn import preprocessing\n",
    "\n",
    "X = X.astype(np.float64) #standard scaler works with double precision data\n",
    "X_training = X_training.astype(np.float64)\n",
    "X_test = X_test.astype(np.float64)\n",
    "\n",
    "#let's use the standard scaling; we degine the scaling for the entire dataset\n",
    "scaler = preprocessing.StandardScaler().fit(X)\n",
    "\n",
    "#let's apply the scaling to the training set\n",
    "\n",
    "X_training = scaler.transform(X_training)\n",
    "#let's apply the scaling to the test set\n",
    "\n",
    "X_test = scaler.transform(X_test)"
   ]
  },
  {
   "cell_type": "markdown",
   "metadata": {},
   "source": [
    "### Perform Logistic Regression\n",
    "\n",
    "We now perform logistic regression using the function provided by Scikit-learn.\n",
    "\n",
    "Note: as provided by Scikit-learn, logistic regression is always implemented using regularization. However, the impact of regularization can be dampened to have almost no regularization by changing the parameter $C$, which is the inverse of $\\lambda$. Therefore to have no regularization, which is $\\lambda = 0$ for the model seen in class, we need $C$ to have a large value. Here we fix $C = 100000000$.\n",
    "\n",
    "[Note that the intercept is estimated in the model.]\n",
    "\n",
    "For all our models we are going to use 10-fold cross validation to estimate the parameters (when needed) and/or estimate the validation error."
   ]
  },
  {
   "cell_type": "code",
   "execution_count": 8,
   "metadata": {},
   "outputs": [
    {
     "name": "stdout",
     "output_type": "stream",
     "text": [
      "Values of parameter C tried in 10-fold Cross-Validation: [100000000]\n",
      "Accuracies obtained for the different values of C with 10-fold Cross-Validation: [0.55151515]\n",
      "Best value of parameter C according to 10-fold Cross-Validation: 100000000\n",
      "<class 'dict'>\n",
      "10-fold Cross-Validation accuracies obtained with the best value of parameter C: [0.72727273]\n"
     ]
    }
   ],
   "source": [
    "from sklearn import linear_model\n",
    "\n",
    "# define a logistic regression model with very high C parameter -> low impact from regularization;\n",
    "# there are many solvers available to obtain the solution to the logistic regression problem, we just pick\n",
    "# one of them; 'cv' is the number of folds in cross-validation; we also specify l2 as regularization penalty,\n",
    "# just to pick one; Cs contains the values of C to be tested and to pick from with validation. Here we\n",
    "# are interested in only 1 value of C, and use cross-validation just to estimate the validation error\n",
    "# in a same way as other models\n",
    "\n",
    "reg = linear_model.LogisticRegressionCV(Cs=[100000000], solver='newton-cg',cv=10, penalty='l2')\n",
    "\n",
    "#fit the model on training data\n",
    "reg.fit(X_training, Y_training)\n",
    "\n",
    "# the attribute 'Cs_' contains ALL the values of C evaluated in cross-validation;\n",
    "# let's print them\n",
    "print(\"Values of parameter C tried in 10-fold Cross-Validation: {}\".format( reg.Cs_ ))\n",
    "\n",
    "# the attribute 'scores_' contains the accuracy obtained in each fold, for each value \n",
    "# of C tried; we now compute the average accuracy across the 10 folds\n",
    "CV_accuracies = np.divide(np.sum(reg.scores_[1],axis=0),10)\n",
    "\n",
    "# let's print the average accuracies obtained for the various values of C\n",
    "print(\"Accuracies obtained for the different values of C with 10-fold Cross-Validation: {}\".format( CV_accuracies ))\n",
    "\n",
    "# the attribute 'C_' contains the best value of C as identified by cross-validation;\n",
    "# let's print it\n",
    "print(\"Best value of parameter C according to 10-fold Cross-Validation: {}\".format( reg.C_[0] ))  #question: this is the same as we put.\n",
    "\n",
    "# let's store the best CV accuracy, and then print it\n",
    "print(type(reg.scores_))\n",
    "reg_best_CV_accuracy = max(reg.scores_[1])\n",
    "print(\"10-fold Cross-Validation accuracies obtained with the best value of parameter C: {}\".format( reg_best_CV_accuracy ))"
   ]
  },
  {
   "cell_type": "markdown",
   "metadata": {},
   "source": [
    "Note that the logistic regression function in Scikit-learn has many optional parameters. Read the documentation if you want to understand what they do!"
   ]
  },
  {
   "cell_type": "markdown",
   "metadata": {},
   "source": [
    "## TODO 1\n",
    "### Learn the best model from Logistic Regression on the entire training set and examine coefficients (by printing and plotting them)\n",
    "\n",
    "Note that you can use simply $linear\\_model.LogisticRegression()$, that does not use cross-validation, without passing the best value of $C$ (and then fit())."
   ]
  },
  {
   "cell_type": "code",
   "execution_count": 9,
   "metadata": {},
   "outputs": [
    {
     "name": "stdout",
     "output_type": "stream",
     "text": [
      "Coefficients obtained using the entire training set: [[-1.04955379e+01  1.04955379e+01 -1.93961350e+01  1.93961350e+01\n",
      "  -3.97887080e+01 -2.29857397e+00  2.29857397e+00 -1.68967042e+01\n",
      "   1.68967042e+01 -1.77139430e+01  1.77139430e+01 -2.17953225e-01\n",
      "  -1.17030478e+01  8.18958040e+00  1.17265551e+01 -8.20778350e+00\n",
      "  -4.43686897e-01 -2.83650437e+01 -1.55671357e-01  2.84649673e+01\n",
      "   3.16213922e+00  8.92185708e-01 -1.40111535e+01  1.84346744e+01\n",
      "  -2.40199403e+01  1.29238315e+01  1.11246364e+00  7.50232161e-01\n",
      "  -1.64728331e+01  3.04157818e+01 -2.57191694e+01  1.48266546e+01\n",
      "  -1.85325250e+01  9.00427370e+00  2.85643826e+01 -2.35961351e+01\n",
      "  -1.11530440e+01 -3.09746325e-02  4.46054350e+00 -1.49352178e+01\n",
      "   1.14748263e+01  5.62651111e+00  1.24197638e+01 -7.21210426e+00\n",
      "   3.12314031e+01  1.07880809e+01 -3.90256612e+01 -1.09932193e+01\n",
      "  -1.09489784e+01 -2.25268976e+01  2.93305656e+01  1.54779862e+01\n",
      "  -1.62438899e+00 -3.22168210e+01 -1.74974464e+01  3.11445882e+01\n",
      "   2.43483642e+01  1.84882151e+01 -1.41805854e+01 -3.73315954e+01\n",
      "   2.67725363e+01  6.01850112e+00  6.32426943e+00 -4.71879458e+01]]\n",
      "Intercept: [0.19482876]\n"
     ]
    },
    {
     "data": {
      "image/png": "[encoded data removed]",
      "text/plain": [
       "<Figure size 432x288 with 1 Axes>"
      ]
     },
     "metadata": {
      "needs_background": "light"
     },
     "output_type": "display_data"
    }
   ],
   "source": [
    "#Use a large C to disable regularization\n",
    "reg_full =  linear_model.LogisticRegression(C = 1e10, solver='newton-cg',penalty='l2')\n",
    "reg_full.fit(X_training, Y_training)\n",
    "# ADD CODE!!\n",
    "\n",
    "# print the coefficients from the logistic regression model.\n",
    "print(\"Coefficients obtained using the entire training set: {}\".format( reg_full.coef_ ))\n",
    "\n",
    "# note that the intercept is not in coef_, it is in intercept_\n",
    "print(\"Intercept: {}\".format( reg_full.intercept_ ))\n",
    "\n",
    "# Plot the coefficients\n",
    "reg_coef = reg_full.coef_.reshape(reg_full.coef_.shape[1],)\n",
    "plt.figure()\n",
    "ind = np.arange(1,len(reg_coef)+1)  # the x locations for the groups\n",
    "width = 0.45       # the width of the bars\n",
    "plt.bar(ind, reg_coef, width, color='r')\n",
    "plt.xlabel('Coefficient Index')\n",
    "plt.ylabel('Coefficient Value')\n",
    "plt.title('Logistic Regression Coefficients')\n",
    "plt.show()"
   ]
  },
  {
   "cell_type": "markdown",
   "metadata": {},
   "source": [
    "## TO DO 2\n",
    "\n",
    "### Questions: How many coefficients do you get (recall that the one-hot encoding has been used for some of the features)? Why? How many of them are \"close\" to 0? What do negative coefficient values mean? (max 5 lines)\n",
    "\n",
    "\n",
    "There is 64 coefficient that corresponds to the number of categorical features that we have. The one encoding is splitting the code in the number of categories that we have of each features (fro ex the feature Medu has been split into 5). The coefficients that are close to zero means that they have a lower variance (they don't correlate too much with the actual model). The negative coefficients are the uncorrelated values, meaning that their probability decreases if the feature itself increases. Features with positive coefficients increase the probability of the modeled outcome as they increase."
   ]
  },
  {
   "cell_type": "markdown",
   "metadata": {},
   "source": [
    "## TO DO 3\n",
    "### Predict labels on training and test\n",
    "\n",
    "- Compute the predicted labels on training and test data using reg.predict\n",
    " - Evaluate the accuracy using metrics.accuracy_score from scikit-learn (it returns the percentage of data correctly classified).\n",
    " - Evaluate the score used by logistic regression on training and test data using metrics.accuracy_score()"
   ]
  },
  {
   "cell_type": "code",
   "execution_count": 10,
   "metadata": {},
   "outputs": [
    {
     "name": "stdout",
     "output_type": "stream",
     "text": [
      "Accuracy of the training model: 1.0\n",
      "Accuracy of the test model: 0.604735883424408\n"
     ]
    }
   ],
   "source": [
    "# prediction on training data\n",
    "Y_training_prediction = reg_full.predict(X_training) \n",
    "\n",
    "# compute accuracy as suggested above using metrics.accuracy_score from scikit-learn for training dataset\n",
    "accuracy_training = accuracy_score(Y_training, Y_training_prediction)\n",
    "print('Accuracy of the training model:', accuracy_training)\n",
    "\n",
    "# prediction on test data\n",
    "Y_test_prediction = reg_full.predict(X_test)\n",
    "\n",
    "# compute accuracy as suggested above using metrics.accuracy_score from scikit-learn for test dataset\n",
    "accuracy_test = accuracy_score(Y_test, Y_test_prediction)\n",
    "print('Accuracy of the test model:', accuracy_test)\n",
    "\n",
    "#we are producing an overfitting here!. we perform a model that is the best for the training model and no for the test model!"
   ]
  },
  {
   "cell_type": "code",
   "execution_count": 11,
   "metadata": {},
   "outputs": [
    {
     "name": "stdout",
     "output_type": "stream",
     "text": [
      "Report for training:\n",
      "====================\n",
      "              precision    recall  f1-score   support\n",
      "\n",
      "           0       1.00      1.00      1.00        55\n",
      "           1       1.00      1.00      1.00        45\n",
      "\n",
      "    accuracy                           1.00       100\n",
      "   macro avg       1.00      1.00      1.00       100\n",
      "weighted avg       1.00      1.00      1.00       100\n",
      "\n",
      "Report for test:\n",
      "================\n",
      "              precision    recall  f1-score   support\n",
      "\n",
      "           0       0.66      0.58      0.61       299\n",
      "           1       0.56      0.64      0.59       250\n",
      "\n",
      "    accuracy                           0.60       549\n",
      "   macro avg       0.61      0.61      0.60       549\n",
      "weighted avg       0.61      0.60      0.61       549\n",
      "\n"
     ]
    }
   ],
   "source": [
    "from sklearn.metrics import classification_report\n",
    "print('Report for training:\\n====================')\n",
    "print(classification_report(Y_training, Y_training_prediction))\n",
    "\n",
    "print('Report for test:\\n================')\n",
    "print(classification_report(Y_test, Y_test_prediction))\n"
   ]
  },
  {
   "cell_type": "code",
   "execution_count": 12,
   "metadata": {},
   "outputs": [
    {
     "name": "stdout",
     "output_type": "stream",
     "text": [
      "Confusion Matrix for training:\n",
      "=============================\n",
      "Confusion matrix for test:\n",
      "==========================\n"
     ]
    },
    {
     "data": {
      "text/plain": [
       "array([[173, 126],\n",
       "       [ 91, 159]], dtype=int64)"
      ]
     },
     "execution_count": 12,
     "metadata": {},
     "output_type": "execute_result"
    }
   ],
   "source": [
    "from sklearn.metrics import confusion_matrix\n",
    "\n",
    "print('Confusion Matrix for training:\\n=============================')\n",
    "confusion_matrix(Y_training, Y_training_prediction)\n",
    "\n",
    "\n",
    "print('Confusion matrix for test:\\n==========================')\n",
    "confusion_matrix(Y_test, Y_test_prediction)"
   ]
  },
  {
   "cell_type": "markdown",
   "metadata": {},
   "source": [
    "## TO DO 4\n",
    "### Use L2 regularized logistic regression with cross-validation\n",
    "\n",
    "We perform the L2 regularization for different values of the regularization parameter $C$, and use the Scikit-learn function to perform cross-validation (CV).\n",
    "\n",
    "In L2 regularized logistic regression, the following L2 regularization term is added to the loss:\n",
    "\n",
    "$$\n",
    "    \\lambda \\sum_{i=1}^d w_i^2\n",
    "$$\n",
    "\n",
    "The parameter $C$ used by Scikit learn corresponds to the inverse of $\\lambda$, that is $C = \\frac{1}{\\lambda}$.\n",
    "\n",
    "Note: the CV in Scikit-learn is by default a *stratified* CV, that means that data is split into train-validation while maintaining the proportion of different classes in each fold.\n",
    "\n",
    "In the code below:\n",
    "- use LogisticRegressionCV() to select the best value of C with a 10-fold CV with L2 penalty;\n",
    "- use LogisticRegression() to learn the best model for the best C with L2 penalty on the entire training set\n",
    "\n",
    "Note that LogisticRegressionCV() picks some default values of C to try, but you may need to pass some other values in case for your dataset you need to explore a different interval of values. This applies every time that you use LogisticRegressionCV()."
   ]
  },
  {
   "cell_type": "code",
   "execution_count": 13,
   "metadata": {},
   "outputs": [
    {
     "name": "stdout",
     "output_type": "stream",
     "text": [
      "Accuracies obtained for the different values of C with 10-fold Cross-Validation: [0.69292929]\n",
      "Accuracies obtained for the different values of C with 10-fold Cross-Validation: [0.69292929]\n",
      "Accuracies obtained for the different values of C with 10-fold Cross-Validation: [0.69292929]\n"
     ]
    }
   ],
   "source": [
    "#let's try with different solver to see what happens\n",
    "#in this part of the code I only change if it a differences in the accuracies if you changes your solver (but is not)\n",
    "regL2 = linear_model.LogisticRegressionCV(Cs=[0.01], solver='newton-cg',cv=10, penalty='l2')\n",
    "regL2.fit(X_training, Y_training)\n",
    "CV_accuracies = np.divide(np.sum(regL2.scores_[1],axis=0),10)\n",
    "print(\"Accuracies obtained for the different values of C with 10-fold Cross-Validation: {}\".format( CV_accuracies ))\n",
    "\n",
    "regL21 = linear_model.LogisticRegressionCV(Cs=[0.01], solver='sag',cv=10, penalty='l2')\n",
    "regL21.fit(X_training, Y_training)\n",
    "CV_accuracies = np.divide(np.sum(regL2.scores_[1],axis=0),10)\n",
    "print(\"Accuracies obtained for the different values of C with 10-fold Cross-Validation: {}\".format( CV_accuracies ))\n",
    "\n",
    "regL22 = linear_model.LogisticRegressionCV(Cs=[0.01], solver='lbfgs',cv=10, penalty='l2')\n",
    "regL22.fit(X_training, Y_training)\n",
    "CV_accuracies = np.divide(np.sum(regL2.scores_[1],axis=0),10)\n",
    "print(\"Accuracies obtained for the different values of C with 10-fold Cross-Validation: {}\".format( CV_accuracies ))\n"
   ]
  },
  {
   "cell_type": "code",
   "execution_count": 14,
   "metadata": {},
   "outputs": [
    {
     "name": "stdout",
     "output_type": "stream",
     "text": [
      "[0.0001] \n",
      "\n",
      "parameter C: 0.0001 with accuracy: 0.5555555555555556\n",
      "Accuracy of the training model with C= 0.0001 is: 0.55\n",
      "Accuracy of the test modelwith C= 0.0001 is: 0.5446265938069217\n",
      "[0.001] \n",
      "\n",
      "parameter C: 0.001 with accuracy: 0.5555555555555556\n",
      "Accuracy of the training model with C= 0.001 is: 0.55\n",
      "Accuracy of the test modelwith C= 0.001 is: 0.5446265938069217\n",
      "[0.01] \n",
      "\n",
      "parameter C: 0.01 with accuracy: 0.8181818181818182\n",
      "Accuracy of the training model with C= 0.01 is: 0.79\n",
      "Accuracy of the test modelwith C= 0.01 is: 0.644808743169399\n",
      "[0.1] \n",
      "\n",
      "parameter C: 0.1 with accuracy: 0.8181818181818182\n",
      "Accuracy of the training model with C= 0.1 is: 0.83\n",
      "Accuracy of the test modelwith C= 0.1 is: 0.6174863387978142\n",
      "[1] \n",
      "\n",
      "parameter C: 1 with accuracy: 0.8181818181818182\n",
      "Accuracy of the training model with C= 1 is: 0.9\n",
      "Accuracy of the test modelwith C= 1 is: 0.6211293260473588\n",
      "[10] \n",
      "\n",
      "parameter C: 10 with accuracy: 0.7272727272727273\n",
      "Accuracy of the training model with C= 10 is: 0.97\n",
      "Accuracy of the test modelwith C= 10 is: 0.6138433515482696\n",
      "[100] \n",
      "\n",
      "parameter C: 100 with accuracy: 0.7272727272727273\n",
      "Accuracy of the training model with C= 100 is: 1.0\n",
      "Accuracy of the test modelwith C= 100 is: 0.6120218579234973\n"
     ]
    }
   ],
   "source": [
    "#This part of the code is to see how the model behaves with different parameter of Cs.  In the first part \n",
    "#I perfom the .LogisticRegressionCV with diferents values of Cs, and then I perfom the .LogisticRegression and calculate the \n",
    "#acuracy of the train and test model with the best C. this will help me to chose the best value of Cs.\n",
    "\n",
    "coefficients = [ [0.0001], [0.001], [0.01], [0.1], [1], [10], [100]]\n",
    "for CS in coefficients:\n",
    "    print(CS, '\\n')\n",
    "    regL2 = linear_model.LogisticRegressionCV(Cs=CS, solver='newton-cg',cv=10, penalty='l2')\n",
    "    regL2.fit(X_training, Y_training)\n",
    "    regL2_best_CV_accuracy = np.max(regL2.scores_[1])\n",
    "    \n",
    "    \n",
    "    print(\"parameter C:\",regL2.C_[0], 'with accuracy:', regL2_best_CV_accuracy)\n",
    "\n",
    "    reg_trial = linear_model.LogisticRegression(C = regL2.C_[0], solver = 'newton-cg', penalty = 'l2')\n",
    "    reg_trial.fit(X_training, Y_training)\n",
    "    \n",
    "    Y_training_prediction_LR = reg_trial.predict(X_training)\n",
    "\n",
    "   # compute accuracy as suggested above using metrics.accuracy_score from scikit-learn for training dataset\n",
    "    accuracy_training = accuracy_score(Y_training, Y_training_prediction_LR)\n",
    "    print('Accuracy of the training model with C=', regL2.C_[0], 'is:', accuracy_training)\n",
    "\n",
    "\n",
    "    #prediction on test data\n",
    "    Y_test_prediction_LR = reg_trial.predict(X_test)# COMPLETE\n",
    "\n",
    "\n",
    "    # compute accuracy as suggested above using metrics.accuracy_score from scikit-learn for test dataset\n",
    "    accuracy_test = accuracy_score(Y_test, Y_test_prediction_LR)\n",
    "    print('Accuracy of the test modelwith C=', regL2.C_[0], 'is:', accuracy_test)\n",
    "\n"
   ]
  },
  {
   "cell_type": "code",
   "execution_count": 15,
   "metadata": {},
   "outputs": [
    {
     "name": "stdout",
     "output_type": "stream",
     "text": [
      "Values of parameter C tried in 10-fold Cross-Validation: [0.01]\n",
      "Accuracies obtained for the different values of C with 10-fold Cross-Validation: [0.69292929]\n",
      "Best value of parameter C according to 10-fold Cross-Validation: 0.01\n",
      "[[0.72727273]\n",
      " [0.72727273]\n",
      " [0.81818182]\n",
      " [0.81818182]\n",
      " [0.72727273]\n",
      " [0.77777778]\n",
      " [0.66666667]\n",
      " [0.66666667]\n",
      " [0.44444444]\n",
      " [0.55555556]]\n",
      "10-fold Cross-Validation accuracies obtained with the best value of parameter C: 0.8181818181818182\n",
      "Coefficients obtained using the entire training set: [[-2.40618480e-02  2.40618480e-02 -9.36035936e-02  9.36035936e-02\n",
      "   1.09749141e-02  8.32283849e-03 -8.32283849e-03 -1.89614577e-03\n",
      "   1.89614577e-03 -2.97585941e-02  2.97585941e-02 -2.60199379e-02\n",
      "   1.68804823e-02 -2.27521555e-02 -1.48250092e-02  2.67331235e-02\n",
      "  -4.86335030e-02 -6.13006067e-02  6.45666584e-02  1.94684538e-02\n",
      "  -1.45899456e-02 -2.44735490e-02 -2.84225695e-02  3.03362104e-02\n",
      "  -3.13418504e-02  4.86580561e-02 -6.57702143e-03  3.28353114e-02\n",
      "  -4.54808401e-02  4.34670155e-02 -6.12126879e-03  5.97287618e-02\n",
      "  -6.94740528e-02  2.65190085e-02 -2.61165879e-03  5.94348947e-03\n",
      "  -5.41540295e-03 -7.24415527e-08  1.48845621e-02 -1.51876569e-02\n",
      "  -1.05201251e-02  1.92593307e-02  2.01404752e-02  3.90704746e-02\n",
      "   2.86578875e-02 -2.98482571e-02 -1.60499222e-02 -5.86053564e-02\n",
      "  -3.60104042e-02 -4.73055173e-02  7.77690447e-02  5.41727707e-02\n",
      "  -8.37136905e-02 -9.24238260e-02 -2.33758154e-02  6.87864460e-02\n",
      "   1.14361573e-01 -1.82915339e-02 -3.35027988e-02  3.10593173e-02\n",
      "   2.04311216e-02 -5.35518572e-03  3.89634967e-02 -7.35994610e-02]]\n",
      "Intercept: [-0.2026141]\n"
     ]
    }
   ],
   "source": [
    "#define the model using LogisticRegressionCV passing an appropriate solver, cv value, and choice of penalty\n",
    "regL2 = linear_model.LogisticRegressionCV(Cs=[0.01], solver='newton-cg',cv=10, penalty='l2')\n",
    "\n",
    "#fit the model on training data\n",
    "regL2.fit(X_training, Y_training)\n",
    "\n",
    "# the attribute 'Cs_' contains ALL the values of C evaluated in cross-validation;\n",
    "# let's print them\n",
    "print(\"Values of parameter C tried in 10-fold Cross-Validation: {}\".format( regL2.Cs_ ))\n",
    "\n",
    "# the attribute 'scores_' contains the accuracy obtained in each fold, for each value \n",
    "# of C tried; we now compute the average accuracy across the 10 folds\n",
    "CV_accuracies = np.divide(np.sum(regL2.scores_[1],axis=0),10)\n",
    "\n",
    "# let's print the average accuracies obtained for the various values of C\n",
    "print(\"Accuracies obtained for the different values of C with 10-fold Cross-Validation: {}\".format( CV_accuracies ))\n",
    "\n",
    "# the attribute 'C_' contains the best value of C as identified by cross-validation;\n",
    "# let's print it\n",
    "\n",
    "print(\"Best value of parameter C according to 10-fold Cross-Validation: {}\".format( regL2.C_[0] ))\n",
    "\n",
    "# let's store the best CV accuracy, and then print it\n",
    "print(regL2.scores_[1])\n",
    "regL2_best_CV_accuracy = np.max(regL2.scores_[1])\n",
    "print(\"10-fold Cross-Validation accuracies obtained with the best value of parameter C: {}\".format( regL2_best_CV_accuracy ))\n",
    "\n",
    "#define the model using the best C and an appropriate solver\n",
    "regL2_full =  linear_model.LogisticRegression(solver='newton-cg',penalty='l2', C = regL2.C_[0])#ADD CODE\n",
    "\n",
    "#fit the model using the best C on the entire training set\n",
    "regL2_full.fit(X_training, Y_training)\n",
    "\n",
    "# print the coefficients from the logistic regression model.\n",
    "print(\"Coefficients obtained using the entire training set: {}\".format( regL2_full.coef_ ))\n",
    "\n",
    "# note that the intercept is not in coef_, it is in intercept_\n",
    "print(\"Intercept: {}\".format( regL2_full.intercept_ ))\n"
   ]
  },
  {
   "cell_type": "code",
   "execution_count": 16,
   "metadata": {},
   "outputs": [
    {
     "name": "stdout",
     "output_type": "stream",
     "text": [
      "Accuracy of the training model with C= 0.001 is: 0.55\n",
      "Accuracy of the test model: 0.5446265938069217\n",
      "Accuracy of the training model with C= 0.01 is: 0.79\n",
      "Accuracy of the test model: 0.644808743169399\n",
      "Accuracy of the training model with C= 0.1 is: 0.83\n",
      "Accuracy of the test model: 0.6174863387978142\n",
      "Accuracy of the training model with C= 0.8181818181818182 is: 0.89\n",
      "Accuracy of the test model: 0.6247723132969034\n",
      "Accuracy of the training model with C= 1.0 is: 0.9\n",
      "Accuracy of the test model: 0.6211293260473588\n",
      "Accuracy of the training model with C= 10.0 is: 0.97\n",
      "Accuracy of the test model: 0.6138433515482696\n"
     ]
    }
   ],
   "source": [
    "#lET'S TRY TO SEE HOW THE MODEL BEHAVES WHEN WE CHANGE C\n",
    "C = [regL2.C_[0]/10, regL2.C_[0],  regL2.C_[0]*10, regL2_best_CV_accuracy, regL2.C_[0]*100, regL2.C_[0]*1000]\n",
    "j = 0\n",
    "for i in C:\n",
    "    reg_trial = linear_model.LogisticRegression(C = i, solver = 'newton-cg', penalty = 'l2')\n",
    "    reg_trial.fit(X_training, Y_training)   \n",
    "\n",
    "    Y_training_prediction_LR = reg_trial.predict(X_training)\n",
    "\n",
    "    # compute accuracy as suggested above using metrics.accuracy_score from scikit-learn for training dataset\n",
    "    accuracy_training = accuracy_score(Y_training, Y_training_prediction_LR)\n",
    "    print('Accuracy of the training model with C=', i, 'is:', accuracy_training)\n",
    "    \n",
    "\n",
    "    #prediction on test data\n",
    "    Y_test_prediction_LR = reg_trial.predict(X_test)# COMPLETE\n",
    "\n",
    "\n",
    "    # compute accuracy as suggested above using metrics.accuracy_score from scikit-learn for test dataset\n",
    "    accuracy_test = accuracy_score(Y_test, Y_test_prediction_LR)\n",
    "    print('Accuracy of the test model:', accuracy_test)\n",
    "\n",
    "#So the accuracy on the training model is better in the regL2.C_[0] as we are expecting, but because of the penalties \n",
    "#accuracy on the trainign model is worst\n",
    "        \n"
   ]
  },
  {
   "cell_type": "markdown",
   "metadata": {},
   "source": [
    "### TO DO 5: Print and plot the coefficients from logistic regression with and without regularization."
   ]
  },
  {
   "cell_type": "code",
   "execution_count": 17,
   "metadata": {},
   "outputs": [
    {
     "data": {
      "image/png": "[encoded data removed]",
      "text/plain": [
       "<Figure size 432x288 with 1 Axes>"
      ]
     },
     "metadata": {
      "needs_background": "light"
     },
     "output_type": "display_data"
    },
    {
     "data": {
      "image/png": "[encoded data removed]",
      "text/plain": [
       "<Figure size 432x288 with 1 Axes>"
      ]
     },
     "metadata": {
      "needs_background": "light"
     },
     "output_type": "display_data"
    },
    {
     "name": "stdout",
     "output_type": "stream",
     "text": [
      "Intercept: [-0.2026141]\n"
     ]
    },
    {
     "data": {
      "image/png": "[encoded data removed]",
      "text/plain": [
       "<Figure size 432x288 with 1 Axes>"
      ]
     },
     "metadata": {
      "needs_background": "light"
     },
     "output_type": "display_data"
    }
   ],
   "source": [
    "#print the coefficients from logistic regression\n",
    "#Use a large C to disable regularization\n",
    "\n",
    "reg_coef = reg_full.coef_.reshape(reg_full.coef_.shape[1],)\n",
    "plt.figure()\n",
    "ind = np.arange(1,len(reg_coef)+1)  # the x locations for the groups\n",
    "width = 0.45       # the width of the bars\n",
    "plt.bar(ind, reg_coef, width, color='c')\n",
    "plt.xlabel('Coefficient Index')\n",
    "plt.ylabel('Coefficient Value')\n",
    "plt.title('Logistic Regression Coefficients with no regularization')\n",
    "plt.show()\n",
    "\n",
    "\n",
    "#print the coefficients from L2 regularized logistic regression\n",
    "regL2_full_coef = regL2_full.coef_.reshape(regL2_full.coef_.shape[1],)\n",
    "plt.figure()\n",
    "ind = np.arange(1,len(regL2_full_coef)+1)  # the x locations for the groups\n",
    "width = 0.45       # the width of the bars\n",
    "plt.bar(ind, regL2_full_coef, width, color='b')\n",
    "plt.xlabel('Coefficient Index')\n",
    "plt.ylabel('Coefficient Value')\n",
    "plt.title('Logistic Regression Coefficients with regularization')\n",
    "plt.show()\n",
    "\n",
    "\n",
    "# note that the intercept is not in coef_, it is in intercept_\n",
    "\n",
    "print(\"Intercept: {}\".format( regL2_full.intercept_ ))\n",
    "\n",
    "# Plot the coefficients\n",
    "regL2_full_coef = regL2_full.coef_.reshape(regL2.coef_.shape[1],)\n",
    "ind = np.arange(1,len(reg_coef)+1)  # the x locations for the groups\n",
    "width = 0.35       # the width of the bars\n",
    "fig, ax = plt.subplots()\n",
    "\n",
    "rects1 = ax.bar(ind, reg_coef, width, color='c')\n",
    "rects2 = ax.bar(ind + width, regL2_full_coef, width, color='b')\n",
    "ax.legend((rects1[0], rects2[0]), ('Log Regr', 'Log Regr + L2 Regul'))\n",
    "plt.xlabel('Coefficient Idx')\n",
    "plt.ylabel('Coefficient Value')\n",
    "plt.title('Logistic Regression Coefficients: Standard and Regularized Version')\n",
    "plt.show()\n",
    "#of course here we can barely see the bars with logistic regression"
   ]
  },
  {
   "cell_type": "markdown",
   "metadata": {},
   "source": [
    "### TO DO 6: how do the coefficients from logistic regression with L2 regularization compare to the ones from logistic regression without regularization ? Why? (max 5 lines)\n",
    "\n",
    "When we apply the regularization the coefficients tend to zero, reducing the variance in the model as we expected. Then the overfitting produced by a large amount of features is avoided since the coefficient of the features that were irrelevant are now close to zero. This 'shrink' of the coefficient can be seen easily in the graphs. \n"
   ]
  },
  {
   "cell_type": "markdown",
   "metadata": {},
   "source": [
    "### TO DO 7: obtain classification accuracy on training and test data for the L2 regularized model"
   ]
  },
  {
   "cell_type": "code",
   "execution_count": 18,
   "metadata": {},
   "outputs": [
    {
     "name": "stdout",
     "output_type": "stream",
     "text": [
      "Accuracy of the training model: 0.79\n",
      "Accuracy of the test model: 0.644808743169399\n"
     ]
    }
   ],
   "source": [
    "# prediction on test data\n",
    "# compute accuracy as suggested above using metrics.accuracy_score from scikit-learn for test dataset\n",
    "\n",
    "# prediction on training data\n",
    "Y_training_prediction_LR_L2 = regL2_full.predict(X_training) \n",
    "\n",
    "# compute accuracy as suggested above using metrics.accuracy_score from scikit-learn for training dataset\n",
    "accuracy_training = accuracy_score(Y_training, Y_training_prediction_LR_L2)\n",
    "print('Accuracy of the training model:', accuracy_training)\n",
    "\n",
    "# prediction on test data\n",
    "Y_test_prediction_LR_L2 = regL2_full.predict(X_test)\n",
    "\n",
    "# compute accuracy as suggested above using metrics.accuracy_score from scikit-learn for test dataset\n",
    "accuracy_test = accuracy_score(Y_test, Y_test_prediction_LR_L2)\n",
    "print('Accuracy of the test model:', accuracy_test)"
   ]
  },
  {
   "cell_type": "code",
   "execution_count": 19,
   "metadata": {},
   "outputs": [
    {
     "name": "stdout",
     "output_type": "stream",
     "text": [
      "Accuracy of the training model: 1.0\n",
      "Accuracy of the test model: 0.604735883424408\n"
     ]
    }
   ],
   "source": [
    "#with no regularization:\n",
    "# prediction on training data\n",
    "Y_training_prediction_LR = reg_full.predict(X_training)  \n",
    "\n",
    "# compute accuracy as suggested above using metrics.accuracy_score from scikit-learn for training dataset\n",
    "accuracy_training = accuracy_score(Y_training, Y_training_prediction_LR)\n",
    "print('Accuracy of the training model:', accuracy_training)\n",
    "\n",
    "# prediction on test data\n",
    "Y_test_prediction_LR = reg_full.predict(X_test)\n",
    "\n",
    "# compute accuracy as suggested above using metrics.accuracy_score from scikit-learn for test dataset\n",
    "accuracy_test = accuracy_score(Y_test, Y_test_prediction_LR)\n",
    "print('Accuracy of the test model:', accuracy_test)"
   ]
  },
  {
   "cell_type": "markdown",
   "metadata": {},
   "source": [
    "### TO DO 8: How does training and test accuracies change when using regularization? Comment (max 5 lines)\n",
    "\n",
    "We can see that the accuracy of the training model is worst for the regularization but that's something that we expect because with regularization we allow more error into the training set so that we could perform a better error in the test set (which is what we can see -the test model accuracy is better for regularization!)."
   ]
  },
  {
   "cell_type": "markdown",
   "metadata": {
    "collapsed": true
   },
   "source": [
    "### TO DO 9: Use larger datasets for training set\n",
    "\n",
    "Perform the same estimation procedures using different more points on the training data, that is fix $m_{training} = 400$. You can simply copy and paste all the code you have written previously into the cell below."
   ]
  },
  {
   "cell_type": "code",
   "execution_count": 20,
   "metadata": {},
   "outputs": [
    {
     "name": "stdout",
     "output_type": "stream",
     "text": [
      "[0 0 0 0 0 1 0 0 0 1 1 1 1 0 1 0 0 1 0 1 1 0 0 0 1 0 0 1 1 0 1 1 0 1 1 0 0\n",
      " 0 0 0 1 1 0 1 0 1 0 1 0 1 1 0 1 1 0 0 0 0 0 0 0 0 0 1 0 0 1 1 0 1 0 1 1 1\n",
      " 1 0 0 0 0 1 0 0 0 0 0 0 0 0 0 0 1 0 0 1 1 1 1 0 0 0 1 0 1 0 1 1 0 1 0 1 1\n",
      " 0 1 1 0 0 1 0 1 0 1 0 0 0 0 1 1 1 0 1 0 1 0 1 0 0 0 0 1 1 1 0 1 1 0 0 1 0\n",
      " 0 0 0 1 0 1 1 0 0 1 1 0 0 0 1 1 1 1 0 0 0 0 1 1 0 1 1 0 0 1 0 0 1 0 0 1 0\n",
      " 1 1 0 0 0 0 0 1 1 1 0 0 0 0 1 1 0 1 0 0 0 1 1 0 1 1 0 0 0 0 1 1 0 1 1 0 1\n",
      " 0 0 1 1 0 0 0 0 1 1 1 0 1 1 0 0 0 1 1 0 1 1 0 1 1 0 0 0 0 0 1 1 1 0 1 0 1\n",
      " 0 1 1 1 1 0 1 0 0 1 0 1 0 0 0 1 0 1 0 1 0 0 1 1 1 1 0 0 0 0 1 0 0 0 0 0 0\n",
      " 0 1 0 0 1 0 1 0 1 1 0 0 0 1 0 1 1 0 0 0 0 1 0 1 1 0 1 0 0 1 0 0 1 0 0 0 0\n",
      " 1 0 0 1 0 1 1 0 0 0 1 1 1 1 1 0 1 0 0 0 0 0 0 1 0 0 1 1 1 0 1 0 0 1 1 1 1\n",
      " 1 1 1 0 1 1 0 1 1 1 0 1 1 0 1 0 1 0 1 1 1 1 0 0 0 0 1 0 1 1]\n",
      "0.45454545454545453\n"
     ]
    }
   ],
   "source": [
    "# number of samples\n",
    "m = np.shape(X)[0]\n",
    "\n",
    "#Divide in training and test: make sure that your training set\n",
    "#contains at least 10 elements from class 1 and at least 10 elements\n",
    "#from class -1! If it does not, modify the code so to apply more random\n",
    "#permutations (or the same permutation multiple times) until this happens.\n",
    "\n",
    "permutation = np.random.permutation(m)\n",
    "X = X[permutation]\n",
    "Y = Y[permutation]\n",
    "\n",
    "m_training = 400 #  # use 100 samples for training + validation...\n",
    "m_test = m-m_training # and the rest for testing\n",
    "\n",
    "# test_size is the proportion of samples in the test set\n",
    "X_training, X_test, Y_training, Y_test = train_test_split(X, Y, test_size =float(m_test)/float(m), random_state = IDnumber)\n",
    "\n",
    "print(Y_training)\n",
    "\n",
    "m_training = X_training.shape[0]\n",
    "m_test = X_test.shape[0]\n",
    "\n",
    "#let's see what the fraction of ones in the entire dataset is\n",
    "print(float(sum(Y_training)+sum(Y_test))/float(m_training+m_test))"
   ]
  },
  {
   "cell_type": "code",
   "execution_count": 21,
   "metadata": {},
   "outputs": [],
   "source": [
    "# Standardize the Features Matrix\n",
    "from sklearn import preprocessing\n",
    "\n",
    "X = X.astype(np.float64) #standard scaler works with double precision data\n",
    "X_training = X_training.astype(np.float64)\n",
    "X_test = X_test.astype(np.float64)\n",
    "\n",
    "#let's use the standard scaling; we degine the scaling for the entire dataset\n",
    "scaler = preprocessing.StandardScaler().fit(X)\n",
    "\n",
    "#let's apply the scaling to the training set\n",
    "\n",
    "X_training = scaler.transform(X_training)\n",
    "#let's apply the scaling to the test set\n",
    "\n",
    "X_test = scaler.transform(X_test)"
   ]
  },
  {
   "cell_type": "code",
   "execution_count": 22,
   "metadata": {},
   "outputs": [
    {
     "name": "stdout",
     "output_type": "stream",
     "text": [
      "Coefficients obtained using the entire training set: [[-1.12647586e-01  1.12647586e-01 -2.63605086e-01  2.63605086e-01\n",
      "   1.29349744e-01 -1.20343709e-02  1.20343709e-02 -1.95104927e-01\n",
      "   1.95104927e-01 -7.64398760e-02  7.64398760e-02  6.20633625e-02\n",
      "   2.14162784e-02 -2.30243832e-01  2.56955991e-01 -3.63310516e-02\n",
      "  -1.39632999e+00  6.16374283e-02  1.53012971e-01  1.01383480e-01\n",
      "   1.19079281e-02 -7.27512526e-04  8.50246403e-04 -1.35189688e-01\n",
      "   3.30678231e-02  1.68041578e-01 -2.09673872e-01 -3.47029380e-01\n",
      "   2.10098594e-01  6.66485414e-02 -7.98948677e-02  1.66465152e-01\n",
      "  -1.43042479e-01 -2.12757574e-02 -2.73359501e-03  5.59338003e-03\n",
      "  -1.09018883e-02  1.12221389e-02 -1.38928203e-02 -1.07122697e-01\n",
      "   2.36316700e-01 -1.07477056e-01  2.29877053e-01  7.74396611e-02\n",
      "   1.66797187e-01  6.06139235e-02 -3.31395447e-01  2.50173619e-01\n",
      "  -4.83830832e-02  1.07597082e-02 -7.54645172e-02 -5.60614455e-02\n",
      "  -4.07996903e-01 -2.89029849e-01 -9.94729068e-02  1.98521145e-01\n",
      "   5.10526586e-01 -2.00213949e-01  5.31557985e-02 -1.54633647e-01\n",
      "  -6.88058633e-02  2.84465327e-01  3.88109521e-01 -3.32794452e-01]]\n",
      "Intercept: [-0.34812339]\n"
     ]
    }
   ],
   "source": [
    "#Use a large C to disable regularization\n",
    "reg_full =  linear_model.LogisticRegression(C = 1e8,solver='newton-cg',penalty='l2')\n",
    "reg_full.fit(X_training, Y_training)\n",
    "# ADD CODE!!\n",
    "\n",
    "# print the coefficients from the logistic regression model.\n",
    "print(\"Coefficients obtained using the entire training set: {}\".format( reg_full.coef_ ))\n",
    "\n",
    "# note that the intercept is not in coef_, it is in intercept_\n",
    "print(\"Intercept: {}\".format( reg_full.intercept_ ))\n"
   ]
  },
  {
   "cell_type": "code",
   "execution_count": 23,
   "metadata": {},
   "outputs": [
    {
     "name": "stdout",
     "output_type": "stream",
     "text": [
      "[0.0001] \n",
      "\n",
      "parameter C: 0.0001 with accuracy: 0.55\n",
      "Accuracy of the training model with C= 0.0001 is: 0.5475\n",
      "Accuracy of the test modelwith C= 0.0001 is: 0.5421686746987951\n",
      "[0.001] \n",
      "\n",
      "parameter C: 0.001 with accuracy: 0.725\n",
      "Accuracy of the training model with C= 0.001 is: 0.6725\n",
      "Accuracy of the test modelwith C= 0.001 is: 0.6626506024096386\n",
      "[0.01] \n",
      "\n",
      "parameter C: 0.01 with accuracy: 0.8\n",
      "Accuracy of the training model with C= 0.01 is: 0.76\n",
      "Accuracy of the test modelwith C= 0.01 is: 0.6867469879518072\n",
      "[0.1] \n",
      "\n",
      "parameter C: 0.1 with accuracy: 0.75\n",
      "Accuracy of the training model with C= 0.1 is: 0.755\n",
      "Accuracy of the test modelwith C= 0.1 is: 0.6586345381526104\n",
      "[1] \n",
      "\n",
      "parameter C: 1 with accuracy: 0.75\n",
      "Accuracy of the training model with C= 1 is: 0.7575\n",
      "Accuracy of the test modelwith C= 1 is: 0.6706827309236948\n",
      "[10] \n",
      "\n",
      "parameter C: 10 with accuracy: 0.75\n",
      "Accuracy of the training model with C= 10 is: 0.7575\n",
      "Accuracy of the test modelwith C= 10 is: 0.6666666666666666\n",
      "[100] \n",
      "\n",
      "parameter C: 100 with accuracy: 0.75\n",
      "Accuracy of the training model with C= 100 is: 0.7575\n",
      "Accuracy of the test modelwith C= 100 is: 0.6666666666666666\n"
     ]
    }
   ],
   "source": [
    "coefficients = [ [0.0001], [0.001], [0.01], [0.1], [1], [10], [100]]\n",
    "for CS in coefficients:\n",
    "    print(CS, '\\n')\n",
    "    regL2 = linear_model.LogisticRegressionCV(Cs=CS, solver='newton-cg',cv=10, penalty='l2')\n",
    "    regL2.fit(X_training, Y_training)\n",
    "    regL2_best_CV_accuracy = np.max(regL2.scores_[1])\n",
    "    \n",
    "    \n",
    "    print(\"parameter C:\",regL2.C_[0], 'with accuracy:', regL2_best_CV_accuracy)\n",
    "\n",
    "    reg_trial = linear_model.LogisticRegression(C = regL2.C_[0], solver = 'newton-cg', penalty = 'l2')\n",
    "    reg_trial.fit(X_training, Y_training)\n",
    "    \n",
    "    Y_training_prediction_LR = reg_trial.predict(X_training)\n",
    "\n",
    "   # compute accuracy as suggested above using metrics.accuracy_score from scikit-learn for training dataset\n",
    "    accuracy_training = accuracy_score(Y_training, Y_training_prediction_LR)\n",
    "    print('Accuracy of the training model with C=', regL2.C_[0], 'is:', accuracy_training)\n",
    "\n",
    "\n",
    "    #prediction on test data\n",
    "    Y_test_prediction_LR = reg_trial.predict(X_test)# COMPLETE\n",
    "\n",
    "\n",
    "    # compute accuracy as suggested above using metrics.accuracy_score from scikit-learn for test dataset\n",
    "    accuracy_test = accuracy_score(Y_test, Y_test_prediction_LR)\n",
    "    print('Accuracy of the test modelwith C=', regL2.C_[0], 'is:', accuracy_test)\n",
    "\n"
   ]
  },
  {
   "cell_type": "code",
   "execution_count": 24,
   "metadata": {},
   "outputs": [
    {
     "name": "stdout",
     "output_type": "stream",
     "text": [
      "Values of parameter C tried in 10-fold Cross-Validation: [0.01]\n",
      "Accuracies obtained for the different values of C with 10-fold Cross-Validation: [0.6751454]\n",
      "Best value of parameter C according to 10-fold Cross-Validation: 0.01\n",
      "[[0.63414634]\n",
      " [0.65      ]\n",
      " [0.7       ]\n",
      " [0.7       ]\n",
      " [0.65      ]\n",
      " [0.65      ]\n",
      " [0.625     ]\n",
      " [0.65      ]\n",
      " [0.8       ]\n",
      " [0.69230769]]\n",
      "10-fold Cross-Validation accuracies obtained with the best value of parameter C: 0.8\n",
      "MIRA ACAAAA 0.01\n",
      "Coefficients obtained using the entire training set: [[-0.04673141  0.04673141 -0.14633707  0.14633707  0.08090655  0.00855745\n",
      "  -0.00855745 -0.0922388   0.0922388  -0.03594905  0.03594905  0.01831226\n",
      "   0.00991253 -0.08496553  0.09147752 -0.01120105 -0.11894876 -0.00765533\n",
      "   0.03233153  0.02764242 -0.02644983  0.00359047 -0.01185143 -0.04098657\n",
      "   0.02676764  0.03441551 -0.05189955 -0.09353172  0.05401134  0.03054475\n",
      "  -0.04547806  0.04635934 -0.06612332  0.04354058 -0.00902574  0.00955877\n",
      "  -0.00357404  0.0062847   0.01509303 -0.03447388  0.04607987 -0.02790052\n",
      "   0.06940731  0.04291195  0.0651545   0.01790106 -0.12060344  0.04601943\n",
      "  -0.04377033 -0.01189149  0.01091579  0.01786861 -0.12588881 -0.11840088\n",
      "  -0.04441148  0.08284027  0.18323701 -0.06832672  0.02000387 -0.06843913\n",
      "  -0.03583827  0.117964    0.14824957 -0.14819201]]\n",
      "Intercept: [-0.18897393]\n"
     ]
    }
   ],
   "source": [
    "#define the model using LogisticRegressionCV passing an appropriate solver, cv value, and choice of penalty\n",
    "\n",
    "regL2 = linear_model.LogisticRegressionCV(Cs=[0.01], solver='newton-cg',cv=10, penalty='l2')\n",
    "\n",
    "#fit the model on training data\n",
    "regL2.fit(X_training, Y_training)\n",
    "\n",
    "# the attribute 'Cs_' contains ALL the values of C evaluated in cross-validation;\n",
    "# let's print them\n",
    "print(\"Values of parameter C tried in 10-fold Cross-Validation: {}\".format( regL2.Cs_ ))\n",
    "\n",
    "# the attribute 'scores_' contains the accuracy obtained in each fold, for each value \n",
    "# of C tried; we now compute the average accuracy across the 10 folds\n",
    "CV_accuracies = np.divide(np.sum(regL2.scores_[1],axis=0),10)\n",
    "\n",
    "# let's print the average accuracies obtained for the various values of C\n",
    "print(\"Accuracies obtained for the different values of C with 10-fold Cross-Validation: {}\".format( CV_accuracies ))\n",
    "\n",
    "# the attribute 'C_' contains the best value of C as identified by cross-validation;\n",
    "# let's print it\n",
    "\n",
    "print(\"Best value of parameter C according to 10-fold Cross-Validation: {}\".format( regL2.C_[0] ))\n",
    "\n",
    "# let's store the best CV accuracy, and then print it\n",
    "print(regL2.scores_[1])\n",
    "regL2_best_CV_accuracy = np.max(regL2.scores_[1])\n",
    "print(\"10-fold Cross-Validation accuracies obtained with the best value of parameter C: {}\".format( regL2_best_CV_accuracy ))\n",
    "\n",
    "#define the model using the best C and an appropriate solver\n",
    "\n",
    "bestC = regL2.C_[0] \n",
    "print('MIRA ACAAAA', bestC)\n",
    "\n",
    "regL2_full =  linear_model.LogisticRegression(solver='newton-cg',penalty='l2', C = regL2.C_[0])#ADD CODE\n",
    "\n",
    "\n",
    "#fit the model using the best C on the entire training set\n",
    "regL2_full.fit(X_training, Y_training)\n",
    "\n",
    "# print the coefficients from the logistic regression model.\n",
    "print(\"Coefficients obtained using the entire training set: {}\".format( regL2_full.coef_ ))\n",
    "\n",
    "# note that the intercept is not in coef_, it is in intercept_\n",
    "print(\"Intercept: {}\".format( regL2_full.intercept_ ))\n"
   ]
  },
  {
   "cell_type": "code",
   "execution_count": 25,
   "metadata": {},
   "outputs": [
    {
     "data": {
      "image/png": "[encoded data removed]",
      "text/plain": [
       "<Figure size 432x288 with 1 Axes>"
      ]
     },
     "metadata": {
      "needs_background": "light"
     },
     "output_type": "display_data"
    },
    {
     "data": {
      "image/png": "[encoded data removed]",
      "text/plain": [
       "<Figure size 432x288 with 1 Axes>"
      ]
     },
     "metadata": {
      "needs_background": "light"
     },
     "output_type": "display_data"
    },
    {
     "name": "stdout",
     "output_type": "stream",
     "text": [
      "Intercept: [-0.18897393]\n"
     ]
    },
    {
     "data": {
      "image/png": "[encoded data removed]",
      "text/plain": [
       "<Figure size 432x288 with 1 Axes>"
      ]
     },
     "metadata": {
      "needs_background": "light"
     },
     "output_type": "display_data"
    }
   ],
   "source": [
    "#print the coefficients from logistic regression\n",
    "#Use a large C to disable regularization\n",
    "\n",
    "reg_coef = reg_full.coef_.reshape(reg_full.coef_.shape[1],)\n",
    "plt.figure()\n",
    "ind = np.arange(1,len(reg_coef)+1)  # the x locations for the groups\n",
    "width = 0.45       # the width of the bars\n",
    "plt.bar(ind, reg_coef, width, color='c')\n",
    "plt.xlabel('Coefficient Index')\n",
    "plt.ylabel('Coefficient Value')\n",
    "plt.title('Logistic Regression Coefficients with no regularization')\n",
    "plt.show()\n",
    "\n",
    "\n",
    "#print the coefficients from L2 regularized logistic regression\n",
    "regL2_full_coef = regL2_full.coef_.reshape(regL2_full.coef_.shape[1],)\n",
    "plt.figure()\n",
    "ind = np.arange(1,len(regL2_full_coef)+1)  # the x locations for the groups\n",
    "width = 0.45       # the width of the bars\n",
    "plt.bar(ind, regL2_full_coef, width, color='b')\n",
    "plt.xlabel('Coefficient Index')\n",
    "plt.ylabel('Coefficient Value')\n",
    "plt.title('Logistic Regression Coefficients with regularization')\n",
    "plt.show()\n",
    "\n",
    "\n",
    "# note that the intercept is not in coef_, it is in intercept_\n",
    "\n",
    "print(\"Intercept: {}\".format( regL2_full.intercept_ ))\n",
    "\n",
    "# Plot the coefficients\n",
    "regL2_full_coef = regL2_full.coef_.reshape(regL2.coef_.shape[1],)\n",
    "ind = np.arange(1,len(reg_coef)+1)  # the x locations for the groups\n",
    "width = 0.35       # the width of the bars\n",
    "fig, ax = plt.subplots()\n",
    "\n",
    "rects1 = ax.bar(ind, reg_coef, width, color='c')\n",
    "rects2 = ax.bar(ind + width, regL2_full_coef, width, color='b')\n",
    "ax.legend((rects1[0], rects2[0]), ('Log Regr', 'Log Regr + L2 Regul'))\n",
    "plt.xlabel('Coefficient Idx')\n",
    "plt.ylabel('Coefficient Value')\n",
    "plt.title('Logistic Regression Coefficients: Standard and Regularized Version')\n",
    "plt.show()"
   ]
  },
  {
   "cell_type": "code",
   "execution_count": 26,
   "metadata": {},
   "outputs": [
    {
     "name": "stdout",
     "output_type": "stream",
     "text": [
      "Accuracy of the training model: 0.76\n",
      "Accuracy of the test model: 0.6867469879518072\n"
     ]
    }
   ],
   "source": [
    "# compute accuracy as suggested above using metrics.accuracy_score from scikit-learn for test dataset\n",
    "\n",
    "# prediction on training data\n",
    "Y_training_prediction_LR_L2 = regL2_full.predict(X_training) \n",
    "\n",
    "# compute accuracy as suggested above using metrics.accuracy_score from scikit-learn for training dataset\n",
    "accuracy_training = accuracy_score(Y_training, Y_training_prediction_LR_L2)\n",
    "print('Accuracy of the training model:', accuracy_training)\n",
    "\n",
    "# prediction on test data\n",
    "Y_test_prediction_LR_L2 = regL2_full.predict(X_test)# COMPLETE\n",
    "\n",
    "# compute accuracy as suggested above using metrics.accuracy_score from scikit-learn for test dataset\n",
    "accuracy_test = accuracy_score(Y_test, Y_test_prediction_LR_L2)\n",
    "print('Accuracy of the test model:', accuracy_test)"
   ]
  },
  {
   "cell_type": "code",
   "execution_count": 27,
   "metadata": {},
   "outputs": [
    {
     "name": "stdout",
     "output_type": "stream",
     "text": [
      "Accuracy of the training model: 0.7575\n",
      "Accuracy of the test model: 0.6666666666666666\n"
     ]
    }
   ],
   "source": [
    "#with no regularization:\n",
    "# prediction on training data\n",
    "Y_training_prediction = reg_full.predict(X_training)  \n",
    "\n",
    "# compute accuracy as suggested above using metrics.accuracy_score from scikit-learn for training dataset\n",
    "accuracy_training = accuracy_score(Y_training, Y_training_prediction)\n",
    "print('Accuracy of the training model:', accuracy_training)\n",
    "\n",
    "# prediction on test data\n",
    "Y_test_prediction = reg_full.predict(X_test)# COMPLETE\n",
    "\n",
    "# compute accuracy as suggested above using metrics.accuracy_score from scikit-learn for test dataset\n",
    "accuracy_test = accuracy_score(Y_test, Y_test_prediction)\n",
    "print('Accuracy of the test model:', accuracy_test)"
   ]
  },
  {
   "cell_type": "code",
   "execution_count": 28,
   "metadata": {},
   "outputs": [],
   "source": [
    "#this is only for plotting some things with different m, so that we can see that the accuracy tends to the same one.\n",
    "size = [100, 150, 200, 250, 300, 350, 400, 500]\n",
    "\n",
    "acc_train_LR = [[], [], [], [], [], [], [], []]\n",
    "\n",
    "\n",
    "acc_train = [[], [], [], [], [], [], [], []]\n",
    "\n",
    "acc_test = [[], [], [], [], [], [], [],[]]\n",
    "\n",
    "acc_test_LR = [[], [], [], [], [], [], [],[]]\n",
    "\n",
    "j = 0\n",
    "for i in size:\n",
    "\n",
    "    m = np.shape(X)[0]\n",
    "\n",
    "    permutation = np.random.permutation(m)\n",
    "    X = X[permutation]\n",
    "    Y = Y[permutation]\n",
    "\n",
    "    m_training = i \n",
    "    m_test = m-m_training # and the rest for testing\n",
    "\n",
    "    # test_size is the proportion of samples in the test set\n",
    "    X_training, X_test, Y_training, Y_test = train_test_split(X, Y, test_size =float(m_test)/float(m), random_state = IDnumber)\n",
    "\n",
    "    m_training = X_training.shape[0]\n",
    "    m_test = X_test.shape[0]\n",
    "\n",
    "    X = X.astype(np.float64) #standard scaler works with double precision data\n",
    "    X_training = X_training.astype(np.float64)\n",
    "    X_test = X_test.astype(np.float64)\n",
    "\n",
    "    scaler = preprocessing.StandardScaler().fit(X)\n",
    "\n",
    "    X_training = scaler.transform(X_training)\n",
    "    X_test = scaler.transform(X_test)\n",
    "\n",
    "\n",
    "    #nonr\n",
    "    reg_full =  linear_model.LogisticRegression(C = 1e8,solver='newton-cg',penalty='l2')\n",
    "    reg_full.fit(X_training, Y_training)\n",
    "\n",
    "    #with no regularization:\n",
    "    # prediction on training data\n",
    "    Y_training_prediction = reg_full.predict(X_training)  \n",
    "\n",
    "    # compute accuracy as suggested above using metrics.accuracy_score from scikit-learn for training dataset\n",
    "    accuracy_training = accuracy_score(Y_training, Y_training_prediction)\n",
    "    #print('Accuracy of the training model:', accuracy_training)\n",
    "    acc_train[j] = accuracy_training\n",
    "    #teste[j].append(accuracy_test)\n",
    "    \n",
    "    \n",
    "    # prediction on test data\n",
    "    Y_test_prediction = reg_full.predict(X_test)# COMPLETE\n",
    "\n",
    "    # compute accuracy as suggested above using metrics.accuracy_score from scikit-learn for test dataset\n",
    "    accuracy_test = accuracy_score(Y_test, Y_test_prediction)\n",
    "    #print('Accuracy of the test model:', accuracy_test)\n",
    "    acc_test[j] = accuracy_test\n",
    "    \n",
    "    #regularization\n",
    "    regL2 = linear_model.LogisticRegressionCV(Cs=[0.01], solver='newton-cg',cv=10, penalty='l2')\n",
    "    regL2.fit(X_training, Y_training)\n",
    "\n",
    "    # prediction on training data\n",
    "    Y_training_prediction_LR_L2 = regL2_full.predict(X_training) \n",
    "\n",
    "    # compute accuracy as suggested above using metrics.accuracy_score from scikit-learn for training dataset\n",
    "    accuracy_training = accuracy_score(Y_training, Y_training_prediction_LR_L2)\n",
    "    #print('Accuracy of the training model:', accuracy_training)\n",
    "    acc_train_LR[j] = accuracy_training\n",
    "    \n",
    "    \n",
    "    # prediction on test data\n",
    "    Y_test_prediction_LR_L2 = regL2_full.predict(X_test)# COMPLETE\n",
    "\n",
    "    # compute accuracy as suggested above using metrics.accuracy_score from scikit-learn for test dataset\n",
    "    accuracy_test = accuracy_score(Y_test, Y_test_prediction_LR_L2)\n",
    "    #print('Accuracy of the test model:', accuracy_test)\n",
    "    acc_test_LR[j] = accuracy_test\n",
    "    \n",
    "    \n",
    "    j += 1\n"
   ]
  },
  {
   "cell_type": "code",
   "execution_count": 29,
   "metadata": {},
   "outputs": [
    {
     "name": "stdout",
     "output_type": "stream",
     "text": [
      "[0.71, 0.7266666666666667, 0.75, 0.732, 0.7433333333333333, 0.7257142857142858, 0.74, 0.718]\n",
      "[1.0, 0.8, 0.8, 0.8, 0.7866666666666666, 0.7314285714285714, 0.755, 0.722]\n",
      "[0.7358834244080146, 0.7334669338677354, 0.7238307349665924, 0.731829573934837, 0.7220630372492837, 0.7391304347826086, 0.7188755020080321, 0.7785234899328859]\n",
      "[0.5282331511839709, 0.6472945891783567, 0.623608017817372, 0.6691729323308271, 0.6590257879656161, 0.68561872909699, 0.6666666666666666, 0.697986577181208]\n"
     ]
    },
    {
     "data": {
      "text/plain": [
       "<matplotlib.legend.Legend at 0x2d1f28bc588>"
      ]
     },
     "execution_count": 29,
     "metadata": {},
     "output_type": "execute_result"
    },
    {
     "data": {
      "image/png": "[encoded data removed]",
      "text/plain": [
       "<Figure size 432x288 with 1 Axes>"
      ]
     },
     "metadata": {
      "needs_background": "light"
     },
     "output_type": "display_data"
    }
   ],
   "source": [
    "print(acc_train_LR)\n",
    "print(acc_train)\n",
    "print(acc_test_LR)\n",
    "print(acc_test)\n",
    "\n",
    "\n",
    "\n",
    "#here i plot the values obtaing for the accuracy with the different C. It can be seen that with different Cs the model gives \n",
    "# me different values of accuracy. I will chose the Cs  that improve the accuracy on the test set.\n",
    "\n",
    "plt.plot(size, acc_train_LR, c = 'c', label= 'Training with regularization')\n",
    "plt.plot(size, acc_train, c = 'g', label=  'Training with no reglarization')\n",
    "plt.plot(size, acc_test_LR, c =  'c', label= 'Test with regularization')\n",
    "plt.plot(size, acc_test, c ='g', label= ' Test with no regularization')\n",
    "plt.legend()\n",
    "\n"
   ]
  },
  {
   "cell_type": "markdown",
   "metadata": {
    "collapsed": true
   },
   "source": [
    "### TO DO 10: Discuss all the questions above for the larger set (max 7 lines). Compare the impact of regularization in this case with the results you obtained for the smaller set.\n",
    "\n",
    "\n",
    "\n",
    "\n",
    "\n",
    "The training accuracies are better when we don’t apply the regularization. We can see that with larger samples the accuracy of the training error is better for m larger (but really similar).This improve can also be seen for the test accuracy. Nevertheless, it seems that both of the solutions (for the regularized and the non regularized) converge to the same value with larger samples, thus with a huge training data using regularization is not so relevant (see graph above)\n",
    "\n",
    "The coefficients are worst for m larger because the dataset itself is too unstable (this lead us to get different values with different seeds)\n",
    "\n"
   ]
  },
  {
   "cell_type": "markdown",
   "metadata": {},
   "source": []
  }
 ],
 "metadata": {
  "anaconda-cloud": {},
  "kernelspec": {
   "display_name": "Python 3",
   "language": "python",
   "name": "python3"
  },
  "language_info": {
   "codemirror_mode": {
    "name": "ipython",
    "version": 3
   },
   "file_extension": ".py",
   "mimetype": "text/x-python",
   "name": "python",
   "nbconvert_exporter": "python",
   "pygments_lexer": "ipython3",
   "version": "3.7.3"
  }
 },
 "nbformat": 4,
 "nbformat_minor": 1
}
